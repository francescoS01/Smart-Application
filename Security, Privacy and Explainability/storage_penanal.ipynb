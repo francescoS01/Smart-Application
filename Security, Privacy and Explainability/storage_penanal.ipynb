{
 "cells": [
  {
   "cell_type": "markdown",
   "metadata": {},
   "source": [
    "# Storage penetration playbook"
   ]
  },
  {
   "cell_type": "code",
   "execution_count": 18,
   "metadata": {},
   "outputs": [
    {
     "name": "stderr",
     "output_type": "stream",
     "text": [
      "[*] Checking for new versions of pwntools\n",
      "    To disable this functionality, set the contents of /home/yuri/.cache/.pwntools-cache-3.11/update to 'never' (old way).\n",
      "    Or add the following lines to ~/.pwn.conf or ~/.config/pwn.conf (or /etc/pwn.conf system-wide):\n",
      "        [update]\n",
      "        interval=never\n",
      "[*] You have the latest version of Pwntools (4.13.1)\n"
     ]
    }
   ],
   "source": [
    "import psycopg2\n",
    "import warehouse\n",
    "from datetime import datetime, date\n",
    "import os\n",
    "import pwn"
   ]
  },
  {
   "cell_type": "markdown",
   "metadata": {},
   "source": [
    " ### Put machines in the DB"
   ]
  },
  {
   "cell_type": "code",
   "execution_count": 2,
   "metadata": {},
   "outputs": [
    {
     "name": "stdout",
     "output_type": "stream",
     "text": [
      "Executing query: INSERT INTO warehouse.machines (machineid,name,line) VALUES (1, 'machine1', 1) Returning machineid\n",
      "duplicate key value violates unique constraint \"machines_pkey\"\n",
      "DETAIL:  Key (machineid)=(1) already exists.\n",
      "\n"
     ]
    }
   ],
   "source": [
    "try:\n",
    "    warehouse.put_machine_with_id(1, \"machine1\", machine_line=1)\n",
    "    warehouse.put_machine_with_id(2, \"machine2\", machine_line=0)\n",
    "    warehouse.put_machine_with_id(3, \"machine3\")\n",
    "    warehouse.put_machine_with_id(4, \"machine4\")\n",
    "    warehouse.put_machine_with_id(5, \"machine5\")\n",
    "except psycopg2.errors.UniqueViolation as e:\n",
    "    print(e)"
   ]
  },
  {
   "cell_type": "code",
   "execution_count": 3,
   "metadata": {},
   "outputs": [],
   "source": [
    "host = os.environ[\"POSTGRES_HOST\"] if \"POSTGRES_HOST\" in os.environ else \"localhost\"\n",
    "\n",
    "conn = psycopg2.connect(\n",
    "    host=host,\n",
    "    database=\"postgres\",\n",
    "    user=\"postgres\",\n",
    "    password=\"password\",\n",
    "    port=\"5432\",\n",
    ")\n",
    "\n",
    "# Setting auto commit false\n",
    "conn.autocommit = True\n",
    "global cursor\n",
    "# Creating a cursor object using the cursor() method\n",
    "cursor = conn.cursor()"
   ]
  },
  {
   "cell_type": "code",
   "execution_count": null,
   "metadata": {},
   "outputs": [
    {
     "name": "stdout",
     "output_type": "stream",
     "text": [
      "INSERT INTO warehouse.machines (machineid,name) VALUES ('20', '1); OR 1 = 1 -- ') Returning machineid\n"
     ]
    }
   ],
   "source": [
    "from psycopg2.extensions import AsIs\n",
    "\n",
    "machine_id = \"20\"\n",
    "machine_name = \"1); OR 1 = 1 -- \"\n",
    "# machine_type = \"'); DROP TABLE warehouse.machines; --('\"\n",
    "columns = [\"machineid\", \"name\"]\n",
    "values = [machine_id, machine_name]\n",
    "query = \"INSERT INTO warehouse.machines (%s) VALUES %s Returning machineid\"\n",
    "params = (AsIs(\",\".join(columns)), tuple(values))\n",
    "print(cursor.mogrify(query, params).decode('utf-8'))"
   ]
  },
  {
   "cell_type": "code",
   "execution_count": 2,
   "metadata": {},
   "outputs": [
    {
     "name": "stdout",
     "output_type": "stream",
     "text": [
      "name 'warehouse' is not defined\n"
     ]
    }
   ],
   "source": [
    "# put_machine_with_id(machine_id, machine_name, machine_type=None, machine_line=None, machine_factory=None)\n",
    "\n",
    "try:\n",
    "    warehouse.put_machine_with_id(machine_id=\"999\", machine_name=\"1\")\n",
    "except Exception as e:\n",
    "    print(e)"
   ]
  },
  {
   "cell_type": "markdown",
   "metadata": {},
   "source": [
    "### Querying for machine data"
   ]
  },
  {
   "cell_type": "code",
   "execution_count": 6,
   "metadata": {},
   "outputs": [
    {
     "name": "stdout",
     "output_type": "stream",
     "text": [
      "Machine ID, Name, Line, Factory, Type\n",
      "(1, 'machine1', 1, 'Unknown', 'Unknown')\n"
     ]
    }
   ],
   "source": [
    "machine = warehouse.get_machine_data_by_name(\"machine1\")[0]\n",
    "print(\"Machine ID, Name, Line, Factory, Type\")\n",
    "print(machine)\n",
    "machine_id = machine[0]"
   ]
  },
  {
   "cell_type": "markdown",
   "metadata": {},
   "source": [
    "### Querying for measurments"
   ]
  },
  {
   "cell_type": "code",
   "execution_count": 14,
   "metadata": {},
   "outputs": [
    {
     "name": "stdout",
     "output_type": "stream",
     "text": [
      "Executing query: SELECT * FROM warehouse.sensors_data WHERE machineid = 1 AND measurements->'cost' IS NOT NULL AND timestamp >= 2020-01-01 AND timestamp <= 2024-12-06 OR 1 = 1\n"
     ]
    },
    {
     "ename": "InvalidDatetimeFormat",
     "evalue": "invalid input syntax for type timestamp: \"2024-12-06 OR 1 = 1\"\nLINE 1: ... timestamp >= '2020-01-01'::date AND timestamp <= '2024-12-0...\n                                                             ^\n",
     "output_type": "error",
     "traceback": [
      "\u001b[0;31m---------------------------------------------------------------------------\u001b[0m",
      "\u001b[0;31mInvalidDatetimeFormat\u001b[0m                     Traceback (most recent call last)",
      "Cell \u001b[0;32mIn[14], line 1\u001b[0m\n\u001b[0;32m----> 1\u001b[0m measurements \u001b[38;5;241m=\u001b[39m \u001b[43mwarehouse\u001b[49m\u001b[38;5;241;43m.\u001b[39;49m\u001b[43mget_measurement_with_kpi\u001b[49m\u001b[43m(\u001b[49m\n\u001b[1;32m      2\u001b[0m \u001b[43m    \u001b[49m\u001b[38;5;241;43m1\u001b[39;49m\u001b[43m,\u001b[49m\n\u001b[1;32m      3\u001b[0m \u001b[43m    \u001b[49m\u001b[38;5;124;43m\"\u001b[39;49m\u001b[38;5;124;43mcost\u001b[39;49m\u001b[38;5;124;43m\"\u001b[39;49m\u001b[43m,\u001b[49m\n\u001b[1;32m      4\u001b[0m \u001b[43m    \u001b[49m\u001b[43mstart_time\u001b[49m\u001b[38;5;241;43m=\u001b[39;49m\u001b[43mdate\u001b[49m\u001b[43m(\u001b[49m\u001b[38;5;241;43m2020\u001b[39;49m\u001b[43m,\u001b[49m\u001b[43m \u001b[49m\u001b[38;5;241;43m1\u001b[39;49m\u001b[43m,\u001b[49m\u001b[43m \u001b[49m\u001b[38;5;241;43m1\u001b[39;49m\u001b[43m)\u001b[49m\u001b[43m,\u001b[49m\n\u001b[1;32m      5\u001b[0m \u001b[43m    \u001b[49m\u001b[43mend_time\u001b[49m\u001b[38;5;241;43m=\u001b[39;49m\u001b[38;5;124;43m\"\u001b[39;49m\u001b[38;5;124;43m2024-12-06 OR 1 = 1\u001b[39;49m\u001b[38;5;124;43m\"\u001b[39;49m\u001b[43m,\u001b[49m\n\u001b[1;32m      6\u001b[0m \u001b[43m)\u001b[49m\n",
      "File \u001b[0;32m~/myGitShit/proactive-AI-industry-5.0/Storage/warehouse.py:144\u001b[0m, in \u001b[0;36mget_measurement_with_kpi\u001b[0;34m(machine_id, kpi_name, start_time, end_time, statistic)\u001b[0m\n\u001b[1;32m    140\u001b[0m     params\u001b[38;5;241m.\u001b[39mappend(end_time)\n\u001b[1;32m    142\u001b[0m \u001b[38;5;28mprint\u001b[39m(\u001b[38;5;124m\"\u001b[39m\u001b[38;5;124mExecuting query:\u001b[39m\u001b[38;5;124m\"\u001b[39m, query \u001b[38;5;241m%\u001b[39m \u001b[38;5;28mtuple\u001b[39m(params))\n\u001b[0;32m--> 144\u001b[0m \u001b[43mcursor\u001b[49m\u001b[38;5;241;43m.\u001b[39;49m\u001b[43mexecute\u001b[49m\u001b[43m(\u001b[49m\u001b[43mquery\u001b[49m\u001b[43m,\u001b[49m\u001b[43m \u001b[49m\u001b[38;5;28;43mtuple\u001b[39;49m\u001b[43m(\u001b[49m\u001b[43mparams\u001b[49m\u001b[43m)\u001b[49m\u001b[43m)\u001b[49m\n\u001b[1;32m    145\u001b[0m \u001b[38;5;28;01mreturn\u001b[39;00m cursor\u001b[38;5;241m.\u001b[39mfetchall()\n",
      "\u001b[0;31mInvalidDatetimeFormat\u001b[0m: invalid input syntax for type timestamp: \"2024-12-06 OR 1 = 1\"\nLINE 1: ... timestamp >= '2020-01-01'::date AND timestamp <= '2024-12-0...\n                                                             ^\n"
     ]
    }
   ],
   "source": [
    "measurements = warehouse.get_measurement_with_kpi(\n",
    "    1,\n",
    "    \"cost\",\n",
    "    start_time=date(2020, 1, 1),\n",
    "    end_time=\"2024-12-06 OR 1 = 1\",\n",
    ")"
   ]
  },
  {
   "cell_type": "code",
   "execution_count": 23,
   "metadata": {},
   "outputs": [
    {
     "name": "stdout",
     "output_type": "stream",
     "text": [
      "Executing query: SELECT * FROM warehouse.sensors_data WHERE machineid = meow AND measurements->'cost' IS NOT NULL AND timestamp >= 2020-01-01\n"
     ]
    },
    {
     "ename": "InvalidTextRepresentation",
     "evalue": "invalid input syntax for type integer: \"meow\"\nLINE 1: ...T * FROM warehouse.sensors_data WHERE machineid = 'meow' AND...\n                                                             ^\n",
     "output_type": "error",
     "traceback": [
      "\u001b[0;31m---------------------------------------------------------------------------\u001b[0m",
      "\u001b[0;31mInvalidTextRepresentation\u001b[0m                 Traceback (most recent call last)",
      "Cell \u001b[0;32mIn[23], line 1\u001b[0m\n\u001b[0;32m----> 1\u001b[0m measurements \u001b[38;5;241m=\u001b[39m \u001b[43mwarehouse\u001b[49m\u001b[38;5;241;43m.\u001b[39;49m\u001b[43mget_measurement_with_kpi\u001b[49m\u001b[43m(\u001b[49m\n\u001b[1;32m      2\u001b[0m \u001b[43m    \u001b[49m\u001b[38;5;124;43m\"\u001b[39;49m\u001b[38;5;124;43mmeow\u001b[39;49m\u001b[38;5;124;43m\"\u001b[39;49m\u001b[43m,\u001b[49m\n\u001b[1;32m      3\u001b[0m \u001b[43m    \u001b[49m\u001b[38;5;124;43m\"\u001b[39;49m\u001b[38;5;124;43mcost\u001b[39;49m\u001b[38;5;124;43m\"\u001b[39;49m\u001b[43m,\u001b[49m\n\u001b[1;32m      4\u001b[0m \u001b[43m    \u001b[49m\u001b[43mstart_time\u001b[49m\u001b[38;5;241;43m=\u001b[39;49m\u001b[38;5;124;43m\"\u001b[39;49m\u001b[38;5;124;43m2020-01-01\u001b[39;49m\u001b[38;5;124;43m\"\u001b[39;49m\u001b[43m,\u001b[49m\n\u001b[1;32m      5\u001b[0m \u001b[43m)\u001b[49m\n",
      "File \u001b[0;32m~/myGitShit/proactive-AI-industry-5.0/Storage/warehouse.py:144\u001b[0m, in \u001b[0;36mget_measurement_with_kpi\u001b[0;34m(machine_id, kpi_name, start_time, end_time, statistic)\u001b[0m\n\u001b[1;32m    140\u001b[0m     params\u001b[38;5;241m.\u001b[39mappend(end_time)\n\u001b[1;32m    142\u001b[0m \u001b[38;5;28mprint\u001b[39m(\u001b[38;5;124m\"\u001b[39m\u001b[38;5;124mExecuting query:\u001b[39m\u001b[38;5;124m\"\u001b[39m, query \u001b[38;5;241m%\u001b[39m \u001b[38;5;28mtuple\u001b[39m(params))\n\u001b[0;32m--> 144\u001b[0m \u001b[43mcursor\u001b[49m\u001b[38;5;241;43m.\u001b[39;49m\u001b[43mexecute\u001b[49m\u001b[43m(\u001b[49m\u001b[43mquery\u001b[49m\u001b[43m,\u001b[49m\u001b[43m \u001b[49m\u001b[38;5;28;43mtuple\u001b[39;49m\u001b[43m(\u001b[49m\u001b[43mparams\u001b[49m\u001b[43m)\u001b[49m\u001b[43m)\u001b[49m\n\u001b[1;32m    145\u001b[0m \u001b[38;5;28;01mreturn\u001b[39;00m cursor\u001b[38;5;241m.\u001b[39mfetchall()\n",
      "\u001b[0;31mInvalidTextRepresentation\u001b[0m: invalid input syntax for type integer: \"meow\"\nLINE 1: ...T * FROM warehouse.sensors_data WHERE machineid = 'meow' AND...\n                                                             ^\n"
     ]
    }
   ],
   "source": [
    "measurements = warehouse.get_measurement_with_kpi(\n",
    "    \"meow\",\n",
    "    \"cost\",\n",
    "    start_time=\"2020-01-01\",\n",
    ")"
   ]
  },
  {
   "cell_type": "code",
   "execution_count": 22,
   "metadata": {},
   "outputs": [],
   "source": [
    "for mesurement in measurements:\n",
    "    print(mesurement)"
   ]
  },
  {
   "cell_type": "markdown",
   "metadata": {},
   "source": [
    "### Querying alerts"
   ]
  },
  {
   "cell_type": "markdown",
   "metadata": {},
   "source": [
    "... by machine that caused the alert"
   ]
  },
  {
   "cell_type": "code",
   "execution_count": 19,
   "metadata": {},
   "outputs": [
    {
     "ename": "InvalidTextRepresentation",
     "evalue": "invalid input syntax for type integer: \"AAAAAAAAAAAAAAAAAAAAAAAAAAAAAAAAAAAAAAAAAAAAAAAAAAAAAAAAAAAAAAAAAAAAAAAAAAAAAAAAAAAAAAAAAAAAAAAAAAAAAAAAAAAAAAAAAAAAAAAAAAAAAAAAAAAAAAAAAAAAAAAAAAAAAAAAAAAAAAAAAAAAAAAAAAAAAAAAAAAAAAAAAAAAAAAAAAAAAAAAAAAAAAAAAAAAAAAAAAAAAAAAAAAAAAAAAAAAAAAAAAAAAAAAAAAAAAAAAAAAAAAAAAAAAAAAAAAAAAAAAAAAAAAAAAAAAAAAAAAAAAAAAAAAAAAAAAAAAAAAAAAAAAAAAAAAAAAAAAAAAAAAAAAAAAAAAAAAAAAAAAAAAAAAAAAAAAAAAAAAAAAAAAAAAAAAAAAAAAAAAAAAAAAAAAAAAAAAAAAAAAAAAAAAAAAAAAAAAAAAAAAAAAAAAAAAAAAAAAAAAAAAAAAAAAAAAAAAAAAAAAAAAAAAAAAAAAAAAAAAAAAAAAAAAAAAAAAAAAAAAAAAAAAAAAAAAAAAAAAAAAAAAAAAAAAAAAAAAAAAAAAAAAAAAAAAAAAAAAAAAAAAAAAAAAAAAAAAAAAAAAAAAAAAAAAAAAAAAAAAAAAAAAAAAAAAAAAAAAAAAAAAAAAAAAAAAAAAAAAAAAAAAAAAAAAAAAAAAAAAAAAAAAAAAAAAAAAAAAAAAAAAAAAAAAAAAAAAAAAAAAAAAAAAAAAAAAAAAAAAAAAAAAAAAAAAAAAAAAAAAAAAAAAAAAAAAAAAAAAAAAAAAAAAAAAAAAAAAAAAAAAAAAAAAAAAAAAAAAAAAAAAAAAAAAAAAAAAAAAAAAAAAAAAAAAAAAAAAAAAAAAAAAAAAAAAAAAAAAAAAAAAAAAAAAAAAAAAAAAAAAAAAAAAAAAAAAAAAAAAAAAAAAAAAAAAAAAAAAAAAAAAAAAAAAAAAAAAAAAAAAAAAAAAAAAAAAAAAAAAAAAAAAAAAAAAAAAAAAAA\"\nLINE 1: SELECT * FROM warehouse.alerts WHERE machineid = 'AAAAAAAAAA...\n                                                         ^\n",
     "output_type": "error",
     "traceback": [
      "\u001b[0;31m---------------------------------------------------------------------------\u001b[0m",
      "\u001b[0;31mInvalidTextRepresentation\u001b[0m                 Traceback (most recent call last)",
      "Cell \u001b[0;32mIn[19], line 2\u001b[0m\n\u001b[1;32m      1\u001b[0m machine_id \u001b[38;5;241m=\u001b[39m \u001b[38;5;124m\"\u001b[39m\u001b[38;5;124mA\u001b[39m\u001b[38;5;124m\"\u001b[39m\u001b[38;5;241m*\u001b[39m\u001b[38;5;241m1000\u001b[39m\n\u001b[0;32m----> 2\u001b[0m alerts \u001b[38;5;241m=\u001b[39m \u001b[43mwarehouse\u001b[49m\u001b[38;5;241;43m.\u001b[39;49m\u001b[43mget_alert_by_machine_id\u001b[49m\u001b[43m(\u001b[49m\u001b[43mmachine_id\u001b[49m\u001b[43m)\u001b[49m\n\u001b[1;32m      3\u001b[0m \u001b[38;5;28;01mfor\u001b[39;00m alert \u001b[38;5;129;01min\u001b[39;00m alerts:\n\u001b[1;32m      4\u001b[0m     \u001b[38;5;28mprint\u001b[39m(alert)\n",
      "File \u001b[0;32m~/myGitShit/proactive-AI-industry-5.0/Storage/warehouse.py:379\u001b[0m, in \u001b[0;36mget_alert_by_machine_id\u001b[0;34m(machine_id)\u001b[0m\n\u001b[1;32m    369\u001b[0m \u001b[38;5;28;01mdef\u001b[39;00m \u001b[38;5;21mget_alert_by_machine_id\u001b[39m(machine_id):\n\u001b[1;32m    370\u001b[0m \u001b[38;5;250m    \u001b[39m\u001b[38;5;124;03m\"\"\"\u001b[39;00m\n\u001b[1;32m    371\u001b[0m \u001b[38;5;124;03m    Retrieve alert records for a given machine ID.\u001b[39;00m\n\u001b[1;32m    372\u001b[0m \n\u001b[0;32m   (...)\u001b[0m\n\u001b[1;32m    377\u001b[0m \u001b[38;5;124;03m        list: A list of alert records that match the criteria.\u001b[39;00m\n\u001b[1;32m    378\u001b[0m \u001b[38;5;124;03m    \"\"\"\u001b[39;00m\n\u001b[0;32m--> 379\u001b[0m     \u001b[43mcursor\u001b[49m\u001b[38;5;241;43m.\u001b[39;49m\u001b[43mexecute\u001b[49m\u001b[43m(\u001b[49m\n\u001b[1;32m    380\u001b[0m \u001b[43m        \u001b[49m\u001b[38;5;124;43m\"\u001b[39;49m\u001b[38;5;124;43mSELECT * FROM warehouse.alerts WHERE machineid = \u001b[39;49m\u001b[38;5;132;43;01m%s\u001b[39;49;00m\u001b[38;5;124;43m\"\u001b[39;49m\u001b[43m,\u001b[49m\n\u001b[1;32m    381\u001b[0m \u001b[43m        \u001b[49m\u001b[43m(\u001b[49m\u001b[43mmachine_id\u001b[49m\u001b[43m,\u001b[49m\u001b[43m)\u001b[49m\u001b[43m,\u001b[49m\n\u001b[1;32m    382\u001b[0m \u001b[43m    \u001b[49m\u001b[43m)\u001b[49m\n\u001b[1;32m    383\u001b[0m     \u001b[38;5;28;01mreturn\u001b[39;00m cursor\u001b[38;5;241m.\u001b[39mfetchall()\n",
      "\u001b[0;31mInvalidTextRepresentation\u001b[0m: invalid input syntax for type integer: \"AAAAAAAAAAAAAAAAAAAAAAAAAAAAAAAAAAAAAAAAAAAAAAAAAAAAAAAAAAAAAAAAAAAAAAAAAAAAAAAAAAAAAAAAAAAAAAAAAAAAAAAAAAAAAAAAAAAAAAAAAAAAAAAAAAAAAAAAAAAAAAAAAAAAAAAAAAAAAAAAAAAAAAAAAAAAAAAAAAAAAAAAAAAAAAAAAAAAAAAAAAAAAAAAAAAAAAAAAAAAAAAAAAAAAAAAAAAAAAAAAAAAAAAAAAAAAAAAAAAAAAAAAAAAAAAAAAAAAAAAAAAAAAAAAAAAAAAAAAAAAAAAAAAAAAAAAAAAAAAAAAAAAAAAAAAAAAAAAAAAAAAAAAAAAAAAAAAAAAAAAAAAAAAAAAAAAAAAAAAAAAAAAAAAAAAAAAAAAAAAAAAAAAAAAAAAAAAAAAAAAAAAAAAAAAAAAAAAAAAAAAAAAAAAAAAAAAAAAAAAAAAAAAAAAAAAAAAAAAAAAAAAAAAAAAAAAAAAAAAAAAAAAAAAAAAAAAAAAAAAAAAAAAAAAAAAAAAAAAAAAAAAAAAAAAAAAAAAAAAAAAAAAAAAAAAAAAAAAAAAAAAAAAAAAAAAAAAAAAAAAAAAAAAAAAAAAAAAAAAAAAAAAAAAAAAAAAAAAAAAAAAAAAAAAAAAAAAAAAAAAAAAAAAAAAAAAAAAAAAAAAAAAAAAAAAAAAAAAAAAAAAAAAAAAAAAAAAAAAAAAAAAAAAAAAAAAAAAAAAAAAAAAAAAAAAAAAAAAAAAAAAAAAAAAAAAAAAAAAAAAAAAAAAAAAAAAAAAAAAAAAAAAAAAAAAAAAAAAAAAAAAAAAAAAAAAAAAAAAAAAAAAAAAAAAAAAAAAAAAAAAAAAAAAAAAAAAAAAAAAAAAAAAAAAAAAAAAAAAAAAAAAAAAAAAAAAAAAAAAAAAAAAAAAAAAAAAAAAAAAAAAAAAAAAAAAAAAAAAAAAAAAAAAAAAAAAAAAAAAAAAAAAAAAAAAAAAAAAAAA\"\nLINE 1: SELECT * FROM warehouse.alerts WHERE machineid = 'AAAAAAAAAA...\n                                                         ^\n"
     ]
    }
   ],
   "source": [
    "machine_id = \"A\"*1000\n",
    "alerts = warehouse.get_alert_by_machine_id(machine_id)\n",
    "for alert in alerts:\n",
    "    print(alert)"
   ]
  },
  {
   "cell_type": "markdown",
   "metadata": {},
   "source": [
    "... by production line"
   ]
  },
  {
   "cell_type": "code",
   "execution_count": null,
   "metadata": {},
   "outputs": [],
   "source": [
    "# get alerts by line\n",
    "alerts = warehouse.get_alerts_by_line(1)\n",
    "for alert in alerts:\n",
    "    print(alert)"
   ]
  },
  {
   "cell_type": "code",
   "execution_count": null,
   "metadata": {},
   "outputs": [],
   "source": []
  }
 ],
 "metadata": {
  "kernelspec": {
   "display_name": "sapp",
   "language": "python",
   "name": "python3"
  },
  "language_info": {
   "codemirror_mode": {
    "name": "ipython",
    "version": 3
   },
   "file_extension": ".py",
   "mimetype": "text/x-python",
   "name": "python",
   "nbconvert_exporter": "python",
   "pygments_lexer": "ipython3",
   "version": "3.11.5"
  }
 },
 "nbformat": 4,
 "nbformat_minor": 2
}
