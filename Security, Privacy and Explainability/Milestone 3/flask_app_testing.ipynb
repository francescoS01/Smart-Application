{
 "cells": [
  {
   "cell_type": "code",
   "execution_count": null,
   "metadata": {},
   "outputs": [],
   "source": [
    "# Install necessary packages\n",
    "%pip install flask requests"
   ]
  },
  {
   "cell_type": "code",
   "execution_count": 8,
   "metadata": {},
   "outputs": [],
   "source": [
    "# Import necessary libraries\n",
    "from flask import Flask, request, jsonify\n",
    "from datetime import datetime, timedelta\n",
    "import requests\n"
   ]
  },
  {
   "cell_type": "code",
   "execution_count": null,
   "metadata": {},
   "outputs": [],
   "source": [
    "# user database\n",
    "users_db = {\n",
    "    \"mario.rossi\": {\"password\": \"password1\", \"role\": \"SMO\", \"email\": \"mario.rossi@gmail.com\"},\n",
    "    \"luigi.bianchi\": {\"password\": \"password2\", \"role\": \"FFM\", \"email\": \"luigi.bianchi@gmail.com\"},\n",
    "    \"antonio.tonarelli\": {\"password\": \"password3\", \"role\": \"FFM\", \"email\": \"antonio.tonarelli@gmail.com\"},\n",
    "    \"RAG\": {\"password\": \"password4\", \"role\": \"System\", \"email\": None},\n",
    "    \"KPIENGINE\": {\"password\": \"password5\", \"role\": \"System\", \"email\": None},\n",
    "    \"PREPROCESSING\": {\"password\": \"password6\", \"role\": \"System\", \"email\": None},\n",
    "    \n",
    "}"
   ]
  },
  {
   "cell_type": "code",
   "execution_count": 10,
   "metadata": {},
   "outputs": [],
   "source": [
    "# Example of tokens database\n",
    "tokens_db = {}\n",
    "\n",
    "# Functions from authentication_db.py\n",
    "def is_token_valid(token):\n",
    "    if token in tokens_db:\n",
    "        expiration = datetime.strptime(tokens_db[token], \"%Y-%m-%dT%H:%M:%SZ\")\n",
    "        if expiration > datetime.now():\n",
    "            return True\n",
    "        else:\n",
    "            del tokens_db[token]  # Remove expired token\n",
    "    return False\n",
    "\n",
    "def add_token_for_user(username):\n",
    "    token = f\"token{len(tokens_db)+1}\"\n",
    "    expiration = (datetime.now() + timedelta(minutes=5)).strftime(\"%Y-%m-%dT%H:%M:%SZ\")\n",
    "    tokens_db[token] = expiration\n",
    "    return token"
   ]
  },
  {
   "cell_type": "code",
   "execution_count": 11,
   "metadata": {},
   "outputs": [],
   "source": [
    "import threading\n",
    "from werkzeug.serving import run_simple\n",
    "# Initialize Flask app\n",
    "app = Flask(__name__)\n",
    "\n",
    "\n",
    "# Login endpoint to authenticate users and generate tokens\n",
    "@app.route('/login', methods=[\"POST\"])\n",
    "def login():\n",
    "    username = request.json.get(\"username\")\n",
    "    password = request.json.get(\"password\")\n",
    "    \n",
    "    user = users_db.get(username)\n",
    "    if user and user[\"password\"] == password:\n",
    "        token = add_token_for_user(username)\n",
    "        return jsonify({\"token\": token}), 200\n",
    "    return jsonify({\"message\": \"Invalid credentials\"}), 401\n",
    "\n",
    "# Validate token endpoint\n",
    "@app.route(\"/validate-token\", methods=[\"POST\"])\n",
    "def validate_token():\n",
    "    token = request.json.get(\"token\")\n",
    "    if not is_token_valid(token):\n",
    "        return jsonify({\"message\": \"Invalid or expired token\"}), 401\n",
    "    return jsonify({\"message\": \"Token is valid\"}), 200\n",
    "\n",
    "\n",
    "\n",
    "\n",
    "def run_flask_app():\n",
    "    run_simple(\"127.0.0.1\", 5000, app)\n",
    "\n",
    "\n",
    "flask_thread = threading.Thread(target=run_flask_app)\n",
    "flask_thread.start()"
   ]
  }
 ],
 "metadata": {
  "kernelspec": {
   "display_name": "Python 3",
   "language": "python",
   "name": "python3"
  },
  "language_info": {
   "codemirror_mode": {
    "name": "ipython",
    "version": 3
   },
   "file_extension": ".py",
   "mimetype": "text/x-python",
   "name": "python",
   "nbconvert_exporter": "python",
   "pygments_lexer": "ipython3",
   "version": "3.8.10"
  }
 },
 "nbformat": 4,
 "nbformat_minor": 2
}
