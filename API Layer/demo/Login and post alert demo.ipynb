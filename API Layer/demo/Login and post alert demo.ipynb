{
 "cells": [
  {
   "cell_type": "markdown",
   "metadata": {},
   "source": [
    "# API Demo"
   ]
  },
  {
   "cell_type": "markdown",
   "metadata": {},
   "source": [
    "Simple demo of how the API should be contacted, showing how to get an authentication token and then use it to get or post data"
   ]
  },
  {
   "cell_type": "code",
   "execution_count": 1,
   "metadata": {},
   "outputs": [],
   "source": [
    "import requests\n",
    "import os\n",
    "\n",
    "# load the correct host name from the environment if defined\n",
    "HOSTNAME = os.getenv('API_HOSTNAME', 'localhost')\n",
    "PORT = 443\n",
    "BASE_URL = f'https://{HOSTNAME}:{PORT}'\n",
    "\n",
    "YOUR_USERNAME = 'sysadmin'# change this, until topic 7 gives you real credentials anything will work\n",
    "YOUR_PASSWORD = 'sysadmin'# change this, until topic 7 gives you real credentials anything will work"
   ]
  },
  {
   "cell_type": "markdown",
   "metadata": {},
   "source": [
    "## Get an authentication token"
   ]
  },
  {
   "cell_type": "code",
   "execution_count": 2,
   "metadata": {},
   "outputs": [
    {
     "name": "stdout",
     "output_type": "stream",
     "text": [
      "You are authenticated!\n",
      "Token:  Bearer test_token\n"
     ]
    },
    {
     "name": "stderr",
     "output_type": "stream",
     "text": [
      "c:\\Users\\andre\\anaconda3\\envs\\HLT\\lib\\site-packages\\urllib3\\connectionpool.py:1103: InsecureRequestWarning: Unverified HTTPS request is being made to host 'localhost'. Adding certificate verification is strongly advised. See: https://urllib3.readthedocs.io/en/latest/advanced-usage.html#tls-warnings\n",
      "  warnings.warn(\n"
     ]
    }
   ],
   "source": [
    "AUTH_URL = f'{BASE_URL}/user/login'\n",
    "\n",
    "auth_token = None\n",
    "\n",
    "def get_token(url, username, password):\n",
    "    headers = {\n",
    "        'username': username,\n",
    "        'password': password\n",
    "    }  \n",
    "    response = requests.post(url, headers=headers, verify=False)\n",
    "    if response.status_code == 200:\n",
    "        print('You are authenticated!')\n",
    "        return response.json()\n",
    "    elif response.status_code == 400:\n",
    "        print('Wrong credentials')\n",
    "    elif response.status_code == 500:\n",
    "        print('Connection error')\n",
    "    else:\n",
    "        print('Unknown error')\n",
    "    return None\n",
    "\n",
    "auth_token = get_token(AUTH_URL, YOUR_USERNAME, YOUR_PASSWORD)\n",
    "print('Token: ', auth_token)"
   ]
  },
  {
   "cell_type": "markdown",
   "metadata": {},
   "source": [
    "## Get machine list"
   ]
  },
  {
   "cell_type": "markdown",
   "metadata": {},
   "source": [
    "When you call an API method, you need the authentication token.\n",
    "The token may be expired if some time has passed since you got it, so you should get a new one before calling the API if you get an authentication error."
   ]
  },
  {
   "cell_type": "code",
   "execution_count": 6,
   "metadata": {},
   "outputs": [],
   "source": [
    "def call_with_token(url, token, call_type='GET', header_params=None):\n",
    "    headers = {} if header_params is None else header_params\n",
    "    headers['Authorization'] = token\n",
    "    if call_type == 'GET':\n",
    "        response = requests.get(url, headers=headers, verify=False)\n",
    "    elif call_type == 'POST':\n",
    "        response = requests.post(url, headers=headers, verify=False)\n",
    "    elif call_type == 'PUT':\n",
    "        response = requests.put(url, headers=headers, verify=False)\n",
    "    elif call_type == 'DELETE':\n",
    "        response = requests.delete(url, headers=headers, verify=False)\n",
    "    else:\n",
    "        print('Unknown call type')\n",
    "        return None, None\n",
    "    if response.status_code == 500:\n",
    "        print('Server error: ', response.reason)\n",
    "        return None, response.status_code\n",
    "    elif response.status_code == 400:\n",
    "        print('Bad request: ', response.reason)\n",
    "        return None, response.status_code\n",
    "    elif response.status_code == 401:\n",
    "        print('Unauthorized')\n",
    "        return None, response.status_code\n",
    "    elif response.status_code == 200:\n",
    "        return response.json(), response.status_code\n",
    "    else:\n",
    "        print('Unknown error: ', response.reason)\n",
    "        return None, response.status_code\n",
    "    \n",
    "def call_and_retry(url, token, call_type='GET', header_params=None):\n",
    "    response, status = call_with_token(url, token, call_type, header_params)\n",
    "    if status == 401:\n",
    "        print('Token expired, getting new token')\n",
    "        token = get_token(AUTH_URL, YOUR_USERNAME, YOUR_PASSWORD)\n",
    "        if token is None:\n",
    "            print('Failed to get new token')\n",
    "            return None, 401\n",
    "        return call_and_retry(url, token, call_type, header_params)\n",
    "    return response, status"
   ]
  },
  {
   "cell_type": "code",
   "execution_count": 4,
   "metadata": {},
   "outputs": [
    {
     "name": "stdout",
     "output_type": "stream",
     "text": [
      "Machines:  [{'factory': 'Factory 1', 'id': 2, 'machineType': 'Type Y', 'name': 'Machine B', 'productionLine': 2, 'status': 'Down'}, {'factory': 'Factory 2', 'id': 3, 'machineType': 'Type X', 'name': 'Machine C', 'productionLine': 1, 'status': 'Down'}, {'factory': 'Factory 2', 'id': 4, 'machineType': 'Type Z', 'name': 'Machine D', 'productionLine': 3, 'status': 'Down'}, {'factory': 'Factory X', 'id': 1, 'machineType': 'Laser welding', 'name': 'Laser Welding Machine 10', 'productionLine': 2, 'status': 'Down'}, {'factory': 'Factory X', 'id': 7, 'machineType': 'Welding Machine', 'name': 'KB test machine', 'productionLine': 2, 'status': 'Up'}, {'factory': 'Factory X', 'id': 8, 'machineType': 'Cutting Machine', 'name': 'KB test machine 2', 'productionLine': 2, 'status': 'Down'}]\n"
     ]
    },
    {
     "name": "stderr",
     "output_type": "stream",
     "text": [
      "c:\\Users\\andre\\anaconda3\\envs\\HLT\\lib\\site-packages\\urllib3\\connectionpool.py:1103: InsecureRequestWarning: Unverified HTTPS request is being made to host 'localhost'. Adding certificate verification is strongly advised. See: https://urllib3.readthedocs.io/en/latest/advanced-usage.html#tls-warnings\n",
      "  warnings.warn(\n"
     ]
    }
   ],
   "source": [
    "#get machine list\n",
    "MACHINE_URL = f'{BASE_URL}/machine'\n",
    "machines, status = call_and_retry(MACHINE_URL, auth_token)\n",
    "if status == 200:\n",
    "    print('Machines: ', machines)\n",
    "else:\n",
    "    print('Failed to get machines')"
   ]
  },
  {
   "cell_type": "markdown",
   "metadata": {},
   "source": [
    "## Add an alert"
   ]
  },
  {
   "cell_type": "code",
   "execution_count": null,
   "metadata": {},
   "outputs": [],
   "source": [
    "ENDPOINT_URL = f'{BASE_URL}/alert'\n",
    "HEADERS = {\n",
    "    \"timestamp\": \"2023-10-01 08:00:00\",\n",
    "    \"machineID\": \"1\",\n",
    "    \"severity\": \"low\",\n",
    "    \"description\": \"This is a test alert\",\n",
    "    \"KPI\": \"Temperature\"\n",
    "}\n",
    "res, status = call_and_retry(ENDPOINT_URL, auth_token, call_type='POST', header_params=HEADERS)\n",
    "if status == 200:\n",
    "    print('Alert added')\n",
    "else:\n",
    "    print('Failed to add alerts')"
   ]
  }
 ],
 "metadata": {
  "kernelspec": {
   "display_name": "HLT",
   "language": "python",
   "name": "python3"
  },
  "language_info": {
   "codemirror_mode": {
    "name": "ipython",
    "version": 3
   },
   "file_extension": ".py",
   "mimetype": "text/x-python",
   "name": "python",
   "nbconvert_exporter": "python",
   "pygments_lexer": "ipython3",
   "version": "3.10.14"
  }
 },
 "nbformat": 4,
 "nbformat_minor": 2
}
