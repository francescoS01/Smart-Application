{
 "cells": [
  {
   "cell_type": "markdown",
   "metadata": {},
   "source": [
    "# API demo for the 2nd milestone"
   ]
  },
  {
   "cell_type": "markdown",
   "metadata": {},
   "source": [
    "This notebook shows a simple demo of the implemented methods. Not all methods and not all scenarios are covered here, but it should give a good starting point for using the API."
   ]
  },
  {
   "cell_type": "code",
   "execution_count": 29,
   "metadata": {},
   "outputs": [],
   "source": [
    "import requests\n",
    "\n",
    "HOSTNAME = 'localhost'\n",
    "PORT = 443\n",
    "AUTHORIZATION_TOKEN = 'test_token'"
   ]
  },
  {
   "cell_type": "markdown",
   "metadata": {},
   "source": [
    "## Machine data tests"
   ]
  },
  {
   "cell_type": "code",
   "execution_count": 30,
   "metadata": {},
   "outputs": [],
   "source": [
    "ENDPOINT = f'https://{HOSTNAME}:{PORT}/machine'"
   ]
  },
  {
   "cell_type": "markdown",
   "metadata": {},
   "source": [
    "Get summary of all machines"
   ]
  },
  {
   "cell_type": "code",
   "execution_count": 31,
   "metadata": {},
   "outputs": [
    {
     "name": "stderr",
     "output_type": "stream",
     "text": [
      "c:\\Users\\andre\\anaconda3\\envs\\test\\lib\\site-packages\\urllib3\\connectionpool.py:1099: InsecureRequestWarning: Unverified HTTPS request is being made to host 'localhost'. Adding certificate verification is strongly advised. See: https://urllib3.readthedocs.io/en/latest/advanced-usage.html#tls-warnings\n",
      "  warnings.warn(\n"
     ]
    },
    {
     "data": {
      "text/plain": [
       "[{'id': 1,\n",
       "  'status': 'Down',\n",
       "  'summary': {'factory': 'Factory 1',\n",
       "   'machine_type': 'Type X',\n",
       "   'name': 'Machine A',\n",
       "   'production_line': 1}},\n",
       " {'id': 2,\n",
       "  'status': 'Down',\n",
       "  'summary': {'factory': 'Factory 1',\n",
       "   'machine_type': 'Type Y',\n",
       "   'name': 'Machine B',\n",
       "   'production_line': 2}},\n",
       " {'id': 3,\n",
       "  'status': 'Down',\n",
       "  'summary': {'factory': 'Factory 2',\n",
       "   'machine_type': 'Type X',\n",
       "   'name': 'Machine C',\n",
       "   'production_line': 1}},\n",
       " {'id': 4,\n",
       "  'status': 'Down',\n",
       "  'summary': {'factory': 'Factory 2',\n",
       "   'machine_type': 'Type Z',\n",
       "   'name': 'Machine D',\n",
       "   'production_line': 3}},\n",
       " {'id': 5,\n",
       "  'status': 'Down',\n",
       "  'summary': {'factory': 'test factory',\n",
       "   'machine_type': 'Cutter',\n",
       "   'name': 'test machine',\n",
       "   'production_line': 5}}]"
      ]
     },
     "execution_count": 31,
     "metadata": {},
     "output_type": "execute_result"
    }
   ],
   "source": [
    "headers = {\n",
    "    'Authorization': f'Bearer {AUTHORIZATION_TOKEN}'\n",
    "}\n",
    "\n",
    "requests.get(ENDPOINT, headers=headers, verify=False).json()"
   ]
  },
  {
   "cell_type": "markdown",
   "metadata": {},
   "source": [
    "Filter machines by id"
   ]
  },
  {
   "cell_type": "code",
   "execution_count": 32,
   "metadata": {},
   "outputs": [
    {
     "name": "stderr",
     "output_type": "stream",
     "text": [
      "c:\\Users\\andre\\anaconda3\\envs\\test\\lib\\site-packages\\urllib3\\connectionpool.py:1099: InsecureRequestWarning: Unverified HTTPS request is being made to host 'localhost'. Adding certificate verification is strongly advised. See: https://urllib3.readthedocs.io/en/latest/advanced-usage.html#tls-warnings\n",
      "  warnings.warn(\n"
     ]
    },
    {
     "data": {
      "text/plain": [
       "[{'id': 1,\n",
       "  'status': 'Down',\n",
       "  'summary': {'factory': 'Factory 1',\n",
       "   'machine_type': 'Type X',\n",
       "   'name': 'Machine A',\n",
       "   'production_line': 1}},\n",
       " {'id': 4,\n",
       "  'status': 'Down',\n",
       "  'summary': {'factory': 'Factory 2',\n",
       "   'machine_type': 'Type Z',\n",
       "   'name': 'Machine D',\n",
       "   'production_line': 3}}]"
      ]
     },
     "execution_count": 32,
     "metadata": {},
     "output_type": "execute_result"
    }
   ],
   "source": [
    "headers = {\n",
    "    'Authorization': f'Bearer {AUTHORIZATION_TOKEN}',\n",
    "    'machines': '1,4'\n",
    "}\n",
    "\n",
    "requests.get(ENDPOINT, headers=headers, verify=False).json()"
   ]
  },
  {
   "cell_type": "markdown",
   "metadata": {},
   "source": [
    "Filter machines by id and factory"
   ]
  },
  {
   "cell_type": "code",
   "execution_count": 33,
   "metadata": {},
   "outputs": [
    {
     "name": "stderr",
     "output_type": "stream",
     "text": [
      "c:\\Users\\andre\\anaconda3\\envs\\test\\lib\\site-packages\\urllib3\\connectionpool.py:1099: InsecureRequestWarning: Unverified HTTPS request is being made to host 'localhost'. Adding certificate verification is strongly advised. See: https://urllib3.readthedocs.io/en/latest/advanced-usage.html#tls-warnings\n",
      "  warnings.warn(\n"
     ]
    },
    {
     "data": {
      "text/plain": [
       "[{'id': 1,\n",
       "  'status': 'Down',\n",
       "  'summary': {'factory': 'Factory 1',\n",
       "   'machine_type': 'Type X',\n",
       "   'name': 'Machine A',\n",
       "   'production_line': 1}}]"
      ]
     },
     "execution_count": 33,
     "metadata": {},
     "output_type": "execute_result"
    }
   ],
   "source": [
    "headers = {\n",
    "    'Authorization': f'Bearer {AUTHORIZATION_TOKEN}',\n",
    "    'machines': '1,3',\n",
    "    'factories': 'Factory 1'\n",
    "}\n",
    "\n",
    "requests.get(ENDPOINT, headers=headers, verify=False).json()"
   ]
  },
  {
   "cell_type": "markdown",
   "metadata": {},
   "source": [
    "Access all informations of a machine (including status, that is 'not operational' due to sensor timestamps not being recent enough)"
   ]
  },
  {
   "cell_type": "code",
   "execution_count": 34,
   "metadata": {},
   "outputs": [
    {
     "name": "stderr",
     "output_type": "stream",
     "text": [
      "c:\\Users\\andre\\anaconda3\\envs\\test\\lib\\site-packages\\urllib3\\connectionpool.py:1099: InsecureRequestWarning: Unverified HTTPS request is being made to host 'localhost'. Adding certificate verification is strongly advised. See: https://urllib3.readthedocs.io/en/latest/advanced-usage.html#tls-warnings\n",
      "  warnings.warn(\n"
     ]
    },
    {
     "data": {
      "text/plain": [
       "[{'id': 3,\n",
       "  'status': 'Down',\n",
       "  'summary': {'factory': 'Factory 2',\n",
       "   'machine_type': 'Type X',\n",
       "   'name': 'Machine C',\n",
       "   'production_line': 1}}]"
      ]
     },
     "execution_count": 34,
     "metadata": {},
     "output_type": "execute_result"
    }
   ],
   "source": [
    "MACHINE_ID = 3\n",
    "ENDPOINT_FULL = ENDPOINT + f'/{MACHINE_ID}'\n",
    "headers = {\n",
    "    'Authorization': f'Bearer {AUTHORIZATION_TOKEN}'\n",
    "}\n",
    "\n",
    "requests.get(ENDPOINT_FULL, headers=headers, verify=False).json()"
   ]
  },
  {
   "cell_type": "markdown",
   "metadata": {},
   "source": [
    "Add a new machine"
   ]
  },
  {
   "cell_type": "code",
   "execution_count": 35,
   "metadata": {},
   "outputs": [
    {
     "name": "stderr",
     "output_type": "stream",
     "text": [
      "c:\\Users\\andre\\anaconda3\\envs\\test\\lib\\site-packages\\urllib3\\connectionpool.py:1099: InsecureRequestWarning: Unverified HTTPS request is being made to host 'localhost'. Adding certificate verification is strongly advised. See: https://urllib3.readthedocs.io/en/latest/advanced-usage.html#tls-warnings\n",
      "  warnings.warn(\n"
     ]
    },
    {
     "data": {
      "text/plain": [
       "'Success'"
      ]
     },
     "execution_count": 35,
     "metadata": {},
     "output_type": "execute_result"
    }
   ],
   "source": [
    "ENDPOINT_FULL = ENDPOINT\n",
    "headers = {\n",
    "    'Authorization': f'Bearer {AUTHORIZATION_TOKEN}',\n",
    "    'name': 'test_machine',\n",
    "    'factory': 'Factory 1',\n",
    "    'productionline': '3',\n",
    "    'machinetype': 'oops, wrong type'\n",
    "}\n",
    "\n",
    "requests.post(ENDPOINT_FULL, headers=headers, verify=False).json()"
   ]
  },
  {
   "cell_type": "markdown",
   "metadata": {},
   "source": [
    "Access the new machine"
   ]
  },
  {
   "cell_type": "code",
   "execution_count": 36,
   "metadata": {},
   "outputs": [
    {
     "name": "stderr",
     "output_type": "stream",
     "text": [
      "c:\\Users\\andre\\anaconda3\\envs\\test\\lib\\site-packages\\urllib3\\connectionpool.py:1099: InsecureRequestWarning: Unverified HTTPS request is being made to host 'localhost'. Adding certificate verification is strongly advised. See: https://urllib3.readthedocs.io/en/latest/advanced-usage.html#tls-warnings\n",
      "  warnings.warn(\n"
     ]
    },
    {
     "data": {
      "text/plain": [
       "[{'id': 7,\n",
       "  'status': 'Down',\n",
       "  'summary': {'factory': 'Factory 1',\n",
       "   'machine_type': 'oops, wrong type',\n",
       "   'name': 'test_machine',\n",
       "   'production_line': 3}}]"
      ]
     },
     "execution_count": 36,
     "metadata": {},
     "output_type": "execute_result"
    }
   ],
   "source": [
    "MACHINE_ID = 7\n",
    "ENDPOINT_FULL = ENDPOINT + f'/{MACHINE_ID}'\n",
    "headers = {\n",
    "    'Authorization': f'Bearer {AUTHORIZATION_TOKEN}'\n",
    "}\n",
    "\n",
    "requests.get(ENDPOINT_FULL, headers=headers, verify=False).json()"
   ]
  },
  {
   "cell_type": "markdown",
   "metadata": {},
   "source": [
    "Correct machine type of the newly added machine"
   ]
  },
  {
   "cell_type": "code",
   "execution_count": 37,
   "metadata": {},
   "outputs": [
    {
     "name": "stderr",
     "output_type": "stream",
     "text": [
      "c:\\Users\\andre\\anaconda3\\envs\\test\\lib\\site-packages\\urllib3\\connectionpool.py:1099: InsecureRequestWarning: Unverified HTTPS request is being made to host 'localhost'. Adding certificate verification is strongly advised. See: https://urllib3.readthedocs.io/en/latest/advanced-usage.html#tls-warnings\n",
      "  warnings.warn(\n"
     ]
    },
    {
     "name": "stdout",
     "output_type": "stream",
     "text": [
      "Success\n"
     ]
    },
    {
     "name": "stderr",
     "output_type": "stream",
     "text": [
      "c:\\Users\\andre\\anaconda3\\envs\\test\\lib\\site-packages\\urllib3\\connectionpool.py:1099: InsecureRequestWarning: Unverified HTTPS request is being made to host 'localhost'. Adding certificate verification is strongly advised. See: https://urllib3.readthedocs.io/en/latest/advanced-usage.html#tls-warnings\n",
      "  warnings.warn(\n"
     ]
    },
    {
     "data": {
      "text/plain": [
       "[{'id': 7,\n",
       "  'status': 'Down',\n",
       "  'summary': {'factory': 'Factory 1',\n",
       "   'machine_type': 'Type X',\n",
       "   'name': 'test_machine',\n",
       "   'production_line': 3}}]"
      ]
     },
     "execution_count": 37,
     "metadata": {},
     "output_type": "execute_result"
    }
   ],
   "source": [
    "MACHINE_ID = 7\n",
    "ENDPOINT_FULL = ENDPOINT + f'/{MACHINE_ID}'\n",
    "headers = {\n",
    "    'Authorization': f'Bearer {AUTHORIZATION_TOKEN}',\n",
    "    'machinetype': 'Type X'\n",
    "}\n",
    "\n",
    "print(requests.put(ENDPOINT_FULL, headers=headers, verify=False).json())\n",
    "\n",
    "requests.get(ENDPOINT_FULL, headers=headers, verify=False).json()"
   ]
  },
  {
   "cell_type": "markdown",
   "metadata": {},
   "source": [
    "Delete the new machine"
   ]
  },
  {
   "cell_type": "code",
   "execution_count": 38,
   "metadata": {},
   "outputs": [
    {
     "name": "stderr",
     "output_type": "stream",
     "text": [
      "c:\\Users\\andre\\anaconda3\\envs\\test\\lib\\site-packages\\urllib3\\connectionpool.py:1099: InsecureRequestWarning: Unverified HTTPS request is being made to host 'localhost'. Adding certificate verification is strongly advised. See: https://urllib3.readthedocs.io/en/latest/advanced-usage.html#tls-warnings\n",
      "  warnings.warn(\n"
     ]
    },
    {
     "data": {
      "text/plain": [
       "'Success'"
      ]
     },
     "execution_count": 38,
     "metadata": {},
     "output_type": "execute_result"
    }
   ],
   "source": [
    "MACHINE_ID = 7\n",
    "ENDPOINT_FULL = ENDPOINT + f'/{MACHINE_ID}'\n",
    "headers = {\n",
    "    'Authorization': f'Bearer {AUTHORIZATION_TOKEN}'\n",
    "}\n",
    "\n",
    "requests.delete(ENDPOINT_FULL, headers=headers, verify=False).json()"
   ]
  },
  {
   "cell_type": "markdown",
   "metadata": {},
   "source": [
    "We should now have an error if we try to access the deleted machine"
   ]
  },
  {
   "cell_type": "code",
   "execution_count": 39,
   "metadata": {},
   "outputs": [
    {
     "name": "stderr",
     "output_type": "stream",
     "text": [
      "c:\\Users\\andre\\anaconda3\\envs\\test\\lib\\site-packages\\urllib3\\connectionpool.py:1099: InsecureRequestWarning: Unverified HTTPS request is being made to host 'localhost'. Adding certificate verification is strongly advised. See: https://urllib3.readthedocs.io/en/latest/advanced-usage.html#tls-warnings\n",
      "  warnings.warn(\n"
     ]
    },
    {
     "data": {
      "text/plain": [
       "'Machine not found'"
      ]
     },
     "execution_count": 39,
     "metadata": {},
     "output_type": "execute_result"
    }
   ],
   "source": [
    "MACHINE_ID = 7\n",
    "ENDPOINT_FULL = ENDPOINT + f'/{MACHINE_ID}'\n",
    "headers = {\n",
    "    'Authorization': f'Bearer {AUTHORIZATION_TOKEN}'\n",
    "}\n",
    "\n",
    "requests.get(ENDPOINT_FULL, headers=headers, verify=False).json()"
   ]
  },
  {
   "cell_type": "markdown",
   "metadata": {},
   "source": [
    "## Alerts"
   ]
  },
  {
   "cell_type": "markdown",
   "metadata": {},
   "source": [
    "Access an alert"
   ]
  },
  {
   "cell_type": "code",
   "execution_count": 40,
   "metadata": {},
   "outputs": [],
   "source": [
    "ENDPOINT = f'https://{HOSTNAME}:{PORT}/alert'"
   ]
  },
  {
   "cell_type": "code",
   "execution_count": 41,
   "metadata": {},
   "outputs": [
    {
     "name": "stderr",
     "output_type": "stream",
     "text": [
      "c:\\Users\\andre\\anaconda3\\envs\\test\\lib\\site-packages\\urllib3\\connectionpool.py:1099: InsecureRequestWarning: Unverified HTTPS request is being made to host 'localhost'. Adding certificate verification is strongly advised. See: https://urllib3.readthedocs.io/en/latest/advanced-usage.html#tls-warnings\n",
      "  warnings.warn(\n"
     ]
    },
    {
     "data": {
      "text/plain": [
       "[{'KPI': 'Humidity',\n",
       "  'description': 'Humidity level high',\n",
       "  'id': 4,\n",
       "  'machine_id': 2,\n",
       "  'severity': 2,\n",
       "  'timestamp': '2023-10-01T11:00:00Z'}]"
      ]
     },
     "execution_count": 41,
     "metadata": {},
     "output_type": "execute_result"
    }
   ],
   "source": [
    "ALERT_ID = 4\n",
    "ENDPOINT_FULL = ENDPOINT + f'/id/{ALERT_ID}'\n",
    "headers = {\n",
    "    'Authorization': f'Bearer {AUTHORIZATION_TOKEN}'\n",
    "}\n",
    "\n",
    "requests.get(ENDPOINT_FULL, headers=headers, verify=False).json()"
   ]
  },
  {
   "cell_type": "markdown",
   "metadata": {},
   "source": [
    "Add an alert"
   ]
  },
  {
   "cell_type": "code",
   "execution_count": 42,
   "metadata": {},
   "outputs": [
    {
     "name": "stderr",
     "output_type": "stream",
     "text": [
      "c:\\Users\\andre\\anaconda3\\envs\\test\\lib\\site-packages\\urllib3\\connectionpool.py:1099: InsecureRequestWarning: Unverified HTTPS request is being made to host 'localhost'. Adding certificate verification is strongly advised. See: https://urllib3.readthedocs.io/en/latest/advanced-usage.html#tls-warnings\n",
      "  warnings.warn(\n"
     ]
    },
    {
     "data": {
      "text/plain": [
       "'Success'"
      ]
     },
     "execution_count": 42,
     "metadata": {},
     "output_type": "execute_result"
    }
   ],
   "source": [
    "ENDPOINT_FULL = ENDPOINT\n",
    "headers = {\n",
    "    'Authorization': f'Bearer {AUTHORIZATION_TOKEN}',\n",
    "    'timestamp': '2024-11-25 00:00:00',\n",
    "    'machineid': '1',\n",
    "    'severity': '1',\n",
    "    'description': 'test alert',\n",
    "    'KPI': 'Temperature'\n",
    "}\n",
    "\n",
    "requests.post(ENDPOINT_FULL, headers=headers, verify=False).json()"
   ]
  },
  {
   "cell_type": "markdown",
   "metadata": {},
   "source": [
    "Show the added alert"
   ]
  },
  {
   "cell_type": "code",
   "execution_count": 43,
   "metadata": {},
   "outputs": [
    {
     "name": "stderr",
     "output_type": "stream",
     "text": [
      "c:\\Users\\andre\\anaconda3\\envs\\test\\lib\\site-packages\\urllib3\\connectionpool.py:1099: InsecureRequestWarning: Unverified HTTPS request is being made to host 'localhost'. Adding certificate verification is strongly advised. See: https://urllib3.readthedocs.io/en/latest/advanced-usage.html#tls-warnings\n",
      "  warnings.warn(\n"
     ]
    },
    {
     "data": {
      "text/plain": [
       "[{'KPI': 'Temperature',\n",
       "  'description': 'test alert',\n",
       "  'id': 10,\n",
       "  'machine_id': 1,\n",
       "  'severity': 1,\n",
       "  'timestamp': '2024-11-25T00:00:00Z'}]"
      ]
     },
     "execution_count": 43,
     "metadata": {},
     "output_type": "execute_result"
    }
   ],
   "source": [
    "ALERT_ID = 10\n",
    "ENDPOINT_FULL = ENDPOINT + f'/id/{ALERT_ID}'\n",
    "headers = {\n",
    "    'Authorization': f'Bearer {AUTHORIZATION_TOKEN}'\n",
    "}\n",
    "\n",
    "requests.get(ENDPOINT_FULL, headers=headers, verify=False).json()"
   ]
  },
  {
   "cell_type": "markdown",
   "metadata": {},
   "source": [
    "## Sensor data"
   ]
  },
  {
   "cell_type": "code",
   "execution_count": 44,
   "metadata": {},
   "outputs": [],
   "source": [
    "ENDPOINT = f'https://{HOSTNAME}:{PORT}/data'"
   ]
  },
  {
   "cell_type": "markdown",
   "metadata": {},
   "source": [
    "Get sensor data between two timestamps"
   ]
  },
  {
   "cell_type": "code",
   "execution_count": 45,
   "metadata": {},
   "outputs": [
    {
     "name": "stderr",
     "output_type": "stream",
     "text": [
      "c:\\Users\\andre\\anaconda3\\envs\\test\\lib\\site-packages\\urllib3\\connectionpool.py:1099: InsecureRequestWarning: Unverified HTTPS request is being made to host 'localhost'. Adding certificate verification is strongly advised. See: https://urllib3.readthedocs.io/en/latest/advanced-usage.html#tls-warnings\n",
      "  warnings.warn(\n"
     ]
    },
    {
     "data": {
      "text/plain": [
       "[{'machine_id': 1,\n",
       "  'measurement': [{'KPI': 'power', 'value': 11.0},\n",
       "   {'KPI': 'idle_time', 'value': 20},\n",
       "   {'KPI': 'consumption', 'value': 52.3},\n",
       "   {'KPI': 'temperature', 'value': 77.1},\n",
       "   {'KPI': 'working_time', 'value': 130}],\n",
       "  'timestamp': '2023-10-01T10:00:00Z'},\n",
       " {'machine_id': 2,\n",
       "  'measurement': [{'KPI': 'power', 'value': 10.3},\n",
       "   {'KPI': 'idle_time', 'value': 40},\n",
       "   {'KPI': 'consumption', 'value': 47.2},\n",
       "   {'KPI': 'temperature', 'value': 72.5},\n",
       "   {'KPI': 'working_time', 'value': 110}],\n",
       "  'timestamp': '2023-10-01T10:00:00Z'},\n",
       " {'machine_id': 3,\n",
       "  'measurement': [{'KPI': 'power', 'value': 12.0},\n",
       "   {'KPI': 'idle_time', 'value': 10},\n",
       "   {'KPI': 'consumption', 'value': 57.5},\n",
       "   {'KPI': 'temperature', 'value': 82.3},\n",
       "   {'KPI': 'working_time', 'value': 140}],\n",
       "  'timestamp': '2023-10-01T10:00:00Z'},\n",
       " {'machine_id': 4,\n",
       "  'measurement': [{'KPI': 'power', 'value': 11.0},\n",
       "   {'KPI': 'idle_time', 'value': 30},\n",
       "   {'KPI': 'consumption', 'value': 50.3},\n",
       "   {'KPI': 'temperature', 'value': 74.1},\n",
       "   {'KPI': 'working_time', 'value': 120}],\n",
       "  'timestamp': '2023-10-01T10:00:00Z'},\n",
       " {'machine_id': 1,\n",
       "  'measurement': [{'KPI': 'cost', 'value': 5.0},\n",
       "   {'KPI': 'cost_idle', 'value': 1.0},\n",
       "   {'KPI': 'cost_working', 'value': 4.0},\n",
       "   {'KPI': 'offline_time', 'value': 10}],\n",
       "  'timestamp': '2023-10-01T11:00:00Z'},\n",
       " {'machine_id': 1,\n",
       "  'measurement': [{'KPI': 'cost', 'value': 6.0},\n",
       "   {'KPI': 'cost_idle', 'value': 1.5},\n",
       "   {'KPI': 'cost_working', 'value': 4.5},\n",
       "   {'KPI': 'offline_time', 'value': 15}],\n",
       "  'timestamp': '2023-10-01T12:00:00Z'},\n",
       " {'machine_id': 1,\n",
       "  'measurement': [{'KPI': 'cost', 'value': 7.0},\n",
       "   {'KPI': 'cost_idle', 'value': 2.0},\n",
       "   {'KPI': 'cost_working', 'value': 5.0},\n",
       "   {'KPI': 'offline_time', 'value': 20}],\n",
       "  'timestamp': '2023-10-01T13:00:00Z'},\n",
       " {'machine_id': 2,\n",
       "  'measurement': [{'KPI': 'cycles', 'value': 100},\n",
       "   {'KPI': 'bad_cycles', 'value': 5},\n",
       "   {'KPI': 'good_cycles', 'value': 95},\n",
       "   {'KPI': 'average_cycle_time', 'value': 1.2}],\n",
       "  'timestamp': '2023-10-01T11:00:00Z'},\n",
       " {'machine_id': 2,\n",
       "  'measurement': [{'KPI': 'cycles', 'value': 110},\n",
       "   {'KPI': 'bad_cycles', 'value': 5},\n",
       "   {'KPI': 'good_cycles', 'value': 105},\n",
       "   {'KPI': 'average_cycle_time', 'value': 1.1}],\n",
       "  'timestamp': '2023-10-01T12:00:00Z'},\n",
       " {'machine_id': 2,\n",
       "  'measurement': [{'KPI': 'cycles', 'value': 120},\n",
       "   {'KPI': 'bad_cycles', 'value': 5},\n",
       "   {'KPI': 'good_cycles', 'value': 115},\n",
       "   {'KPI': 'average_cycle_time', 'value': 1.0}],\n",
       "  'timestamp': '2023-10-01T13:00:00Z'},\n",
       " {'machine_id': 3,\n",
       "  'measurement': [{'KPI': 'acceleration_x', 'value': 0.5},\n",
       "   {'KPI': 'acceleration_y', 'value': 0.6},\n",
       "   {'KPI': 'acceleration_z', 'value': 0.7}],\n",
       "  'timestamp': '2023-10-01T11:00:00Z'},\n",
       " {'machine_id': 3,\n",
       "  'measurement': [{'KPI': 'acceleration_x', 'value': 0.6},\n",
       "   {'KPI': 'acceleration_y', 'value': 0.7},\n",
       "   {'KPI': 'acceleration_z', 'value': 0.8}],\n",
       "  'timestamp': '2023-10-01T12:00:00Z'},\n",
       " {'machine_id': 3,\n",
       "  'measurement': [{'KPI': 'acceleration_x', 'value': 0.7},\n",
       "   {'KPI': 'acceleration_y', 'value': 0.8},\n",
       "   {'KPI': 'acceleration_z', 'value': 0.9}],\n",
       "  'timestamp': '2023-10-01T13:00:00Z'}]"
      ]
     },
     "execution_count": 45,
     "metadata": {},
     "output_type": "execute_result"
    }
   ],
   "source": [
    "START = '2023-10-01 10:00:00'\n",
    "END = '2023-10-01 13:00:00'\n",
    "ENDPOINT_FULL = ENDPOINT\n",
    "headers = {\n",
    "    'Authorization': f'Bearer {AUTHORIZATION_TOKEN}',\n",
    "    'from': START,\n",
    "    'to': END\n",
    "}\n",
    "\n",
    "requests.get(ENDPOINT_FULL, headers=headers, verify=False).json()"
   ]
  },
  {
   "cell_type": "markdown",
   "metadata": {},
   "source": [
    "Filter by machine id"
   ]
  },
  {
   "cell_type": "code",
   "execution_count": 46,
   "metadata": {},
   "outputs": [
    {
     "name": "stderr",
     "output_type": "stream",
     "text": [
      "c:\\Users\\andre\\anaconda3\\envs\\test\\lib\\site-packages\\urllib3\\connectionpool.py:1099: InsecureRequestWarning: Unverified HTTPS request is being made to host 'localhost'. Adding certificate verification is strongly advised. See: https://urllib3.readthedocs.io/en/latest/advanced-usage.html#tls-warnings\n",
      "  warnings.warn(\n"
     ]
    },
    {
     "data": {
      "text/plain": [
       "[{'machine_id': 1,\n",
       "  'measurement': [{'KPI': 'power', 'value': 11.0},\n",
       "   {'KPI': 'idle_time', 'value': 20},\n",
       "   {'KPI': 'consumption', 'value': 52.3},\n",
       "   {'KPI': 'temperature', 'value': 77.1},\n",
       "   {'KPI': 'working_time', 'value': 130}],\n",
       "  'timestamp': '2023-10-01T10:00:00Z'},\n",
       " {'machine_id': 3,\n",
       "  'measurement': [{'KPI': 'power', 'value': 12.0},\n",
       "   {'KPI': 'idle_time', 'value': 10},\n",
       "   {'KPI': 'consumption', 'value': 57.5},\n",
       "   {'KPI': 'temperature', 'value': 82.3},\n",
       "   {'KPI': 'working_time', 'value': 140}],\n",
       "  'timestamp': '2023-10-01T10:00:00Z'},\n",
       " {'machine_id': 1,\n",
       "  'measurement': [{'KPI': 'cost', 'value': 5.0},\n",
       "   {'KPI': 'cost_idle', 'value': 1.0},\n",
       "   {'KPI': 'cost_working', 'value': 4.0},\n",
       "   {'KPI': 'offline_time', 'value': 10}],\n",
       "  'timestamp': '2023-10-01T11:00:00Z'},\n",
       " {'machine_id': 1,\n",
       "  'measurement': [{'KPI': 'cost', 'value': 6.0},\n",
       "   {'KPI': 'cost_idle', 'value': 1.5},\n",
       "   {'KPI': 'cost_working', 'value': 4.5},\n",
       "   {'KPI': 'offline_time', 'value': 15}],\n",
       "  'timestamp': '2023-10-01T12:00:00Z'},\n",
       " {'machine_id': 1,\n",
       "  'measurement': [{'KPI': 'cost', 'value': 7.0},\n",
       "   {'KPI': 'cost_idle', 'value': 2.0},\n",
       "   {'KPI': 'cost_working', 'value': 5.0},\n",
       "   {'KPI': 'offline_time', 'value': 20}],\n",
       "  'timestamp': '2023-10-01T13:00:00Z'},\n",
       " {'machine_id': 3,\n",
       "  'measurement': [{'KPI': 'acceleration_x', 'value': 0.5},\n",
       "   {'KPI': 'acceleration_y', 'value': 0.6},\n",
       "   {'KPI': 'acceleration_z', 'value': 0.7}],\n",
       "  'timestamp': '2023-10-01T11:00:00Z'},\n",
       " {'machine_id': 3,\n",
       "  'measurement': [{'KPI': 'acceleration_x', 'value': 0.6},\n",
       "   {'KPI': 'acceleration_y', 'value': 0.7},\n",
       "   {'KPI': 'acceleration_z', 'value': 0.8}],\n",
       "  'timestamp': '2023-10-01T12:00:00Z'},\n",
       " {'machine_id': 3,\n",
       "  'measurement': [{'KPI': 'acceleration_x', 'value': 0.7},\n",
       "   {'KPI': 'acceleration_y', 'value': 0.8},\n",
       "   {'KPI': 'acceleration_z', 'value': 0.9}],\n",
       "  'timestamp': '2023-10-01T13:00:00Z'}]"
      ]
     },
     "execution_count": 46,
     "metadata": {},
     "output_type": "execute_result"
    }
   ],
   "source": [
    "MACHINES = '1,3'\n",
    "headers['machines'] = MACHINES\n",
    "requests.get(ENDPOINT_FULL, headers=headers, verify=False).json()"
   ]
  },
  {
   "cell_type": "markdown",
   "metadata": {},
   "source": [
    "## KPI calculation engine"
   ]
  },
  {
   "cell_type": "code",
   "execution_count": 47,
   "metadata": {},
   "outputs": [
    {
     "name": "stderr",
     "output_type": "stream",
     "text": [
      "c:\\Users\\andre\\anaconda3\\envs\\test\\lib\\site-packages\\urllib3\\connectionpool.py:1099: InsecureRequestWarning: Unverified HTTPS request is being made to host 'localhost'. Adding certificate verification is strongly advised. See: https://urllib3.readthedocs.io/en/latest/advanced-usage.html#tls-warnings\n",
      "  warnings.warn(\n"
     ]
    },
    {
     "data": {
      "text/plain": [
       "[{'code': 0,\n",
       "  'end_time': '2024-09-30 00:00:00',\n",
       "  'expression': 'sum(good_cycles)',\n",
       "  'reason': '',\n",
       "  'result': {'2024-09-01/2024-09-01': {'values': 0},\n",
       "   '2024-09-02/2024-09-08': {'values': 35692.0},\n",
       "   '2024-09-09/2024-09-15': {'values': 38216.0},\n",
       "   '2024-09-16/2024-09-22': {'values': 54193.0},\n",
       "   '2024-09-23/2024-09-29': {'values': 32591.0},\n",
       "   '2024-09-30/2024-09-30': {'values': 0}},\n",
       "  'start_time': '2024-09-01 00:00:00',\n",
       "  'unit': '#'}]"
      ]
     },
     "execution_count": 47,
     "metadata": {},
     "output_type": "execute_result"
    }
   ],
   "source": [
    "KPI_NAME = 'sum(good_cycles)'\n",
    "ENDPOINT = f'https://{HOSTNAME}:{PORT}/KPI/{KPI_NAME}/machineKPIValues'\n",
    "headers = {\n",
    "    'Authorization': f'Bearer {AUTHORIZATION_TOKEN}',\n",
    "    'aggregationInterval': 'week',\n",
    "    'startdate': '2024-09-01',\n",
    "    'enddate': '2024-09-30'\n",
    "}\n",
    "\n",
    "requests.get(ENDPOINT, headers=headers, verify=False).json()"
   ]
  }
 ],
 "metadata": {
  "kernelspec": {
   "display_name": "test",
   "language": "python",
   "name": "python3"
  },
  "language_info": {
   "codemirror_mode": {
    "name": "ipython",
    "version": 3
   },
   "file_extension": ".py",
   "mimetype": "text/x-python",
   "name": "python",
   "nbconvert_exporter": "python",
   "pygments_lexer": "ipython3",
   "version": "3.10.14"
  }
 },
 "nbformat": 4,
 "nbformat_minor": 2
}
