{
 "cells": [
  {
   "cell_type": "markdown",
   "metadata": {},
   "source": [
    "# API Demo"
   ]
  },
  {
   "cell_type": "markdown",
   "metadata": {},
   "source": [
    "Simple demo of how the API should be contacted, showing how to get an authentication token and then use it to get or post data"
   ]
  },
  {
   "cell_type": "code",
   "execution_count": 11,
   "metadata": {},
   "outputs": [],
   "source": [
    "import requests\n",
    "import os\n",
    "\n",
    "# load the correct host name from the environment if defined\n",
    "HOSTNAME = os.getenv('API_HOSTNAME', 'localhost')\n",
    "PORT = 443\n",
    "BASE_URL = f'https://{HOSTNAME}:{PORT}'\n",
    "\n",
    "YOUR_USERNAME = 'mario.rossi'# change this, until topic 7 gives you real credentials anything will work\n",
    "YOUR_PASSWORD = 'password1'# change this, until topic 7 gives you real credentials anything will work"
   ]
  },
  {
   "cell_type": "code",
   "execution_count": 12,
   "metadata": {},
   "outputs": [],
   "source": [
    "AUTH_URL = f'{BASE_URL}/user/login'\n",
    "\n",
    "auth_token = None\n",
    "\n",
    "def get_token(url, username, password):\n",
    "    headers = {\n",
    "        'username': username,\n",
    "        'password': password\n",
    "    }  \n",
    "    response = requests.post(url, headers=headers, verify=False)\n",
    "    if response.status_code == 200:\n",
    "        print('You are authenticated!')\n",
    "        return response.json()\n",
    "    elif response.status_code == 400:\n",
    "        print('Wrong credentials')\n",
    "    elif response.status_code == 500:\n",
    "        print('Connection error')\n",
    "    else:\n",
    "        print('Unknown error')\n",
    "    return None\n",
    "\n",
    "def call_with_token(url, token, call_type='GET', header_params=None):\n",
    "    headers = {} if header_params is None else header_params\n",
    "    headers['Authorization'] = token\n",
    "    if call_type == 'GET':\n",
    "        response = requests.get(url, headers=headers, verify=False)\n",
    "    elif call_type == 'POST':\n",
    "        response = requests.post(url, headers=headers, verify=False)\n",
    "    elif call_type == 'PUT':\n",
    "        response = requests.put(url, headers=headers, verify=False)\n",
    "    elif call_type == 'DELETE':\n",
    "        response = requests.delete(url, headers=headers, verify=False)\n",
    "    else:\n",
    "        print('Unknown call type')\n",
    "        return None, None\n",
    "    if response.status_code == 500:\n",
    "        print('Server error: ', response.reason)\n",
    "        return None, response.status_code\n",
    "    elif response.status_code == 400:\n",
    "        print('Bad request: ', response.reason)\n",
    "        return None, response.status_code\n",
    "    elif response.status_code == 401:\n",
    "        print('Unauthorized')\n",
    "        return None, response.status_code\n",
    "    elif response.status_code == 200 or response.status_code == 201:\n",
    "        return response.json(), response.status_code\n",
    "    else:\n",
    "        print('Unknown error: ', response.reason)\n",
    "        return None, response.status_code\n",
    "    \n",
    "def call_and_retry(url, token, call_type='GET', header_params=None):\n",
    "    response, status = call_with_token(url, token, call_type, header_params)\n",
    "    if status == 401:\n",
    "        print('Token expired, getting new token')\n",
    "        token = get_token(AUTH_URL, YOUR_USERNAME, YOUR_PASSWORD)\n",
    "        global auth_token\n",
    "        auth_token = token\n",
    "        if token is None:\n",
    "            print('Failed to get new token')\n",
    "            return None, 401\n",
    "        return call_and_retry(url, token, call_type, header_params)\n",
    "    return response, status"
   ]
  },
  {
   "cell_type": "markdown",
   "metadata": {},
   "source": [
    "## Get an authentication token"
   ]
  },
  {
   "cell_type": "code",
   "execution_count": 13,
   "metadata": {},
   "outputs": [
    {
     "name": "stdout",
     "output_type": "stream",
     "text": [
      "You are authenticated!\n",
      "Token:  Bearer token9545\n"
     ]
    },
    {
     "name": "stderr",
     "output_type": "stream",
     "text": [
      "c:\\Users\\andre\\anaconda3\\envs\\HLT\\lib\\site-packages\\urllib3\\connectionpool.py:1103: InsecureRequestWarning: Unverified HTTPS request is being made to host 'localhost'. Adding certificate verification is strongly advised. See: https://urllib3.readthedocs.io/en/latest/advanced-usage.html#tls-warnings\n",
      "  warnings.warn(\n"
     ]
    }
   ],
   "source": [
    "auth_token = get_token(AUTH_URL, YOUR_USERNAME, YOUR_PASSWORD)\n",
    "print('Token: ', auth_token)"
   ]
  },
  {
   "cell_type": "markdown",
   "metadata": {},
   "source": [
    "## Get machine list"
   ]
  },
  {
   "cell_type": "markdown",
   "metadata": {},
   "source": [
    "When you call an API method, you need the authentication token.\n",
    "The token may be expired if some time has passed since you got it, so you should get a new one before calling the API if you get an authentication error."
   ]
  },
  {
   "cell_type": "code",
   "execution_count": 14,
   "metadata": {},
   "outputs": [
    {
     "name": "stdout",
     "output_type": "stream",
     "text": [
      "Machines:  [{'factory': 'Unknown', 'id': 1, 'machineType': 'Large Capacity Cutting Machine', 'name': 'Large Capacity Cutting Machine 1', 'productionLine': 1, 'status': 'Down'}, {'factory': 'Unknown', 'id': 2, 'machineType': 'Riveting Machine', 'name': 'Riveting Machine', 'productionLine': 0, 'status': 'Down'}, {'factory': 'Unknown', 'id': 3, 'machineType': 'Medium Capacity Cutting Machine', 'name': 'Medium Capacity Cutting Machine 1', 'productionLine': 1, 'status': 'Down'}, {'factory': 'Unknown', 'id': 4, 'machineType': 'Laser Cutter', 'name': 'Laser Cutter', 'productionLine': 0, 'status': 'Down'}, {'factory': 'Unknown', 'id': 5, 'machineType': 'Large Capacity Cutting Machine', 'name': 'Large Capacity Cutting Machine 2', 'productionLine': 2, 'status': 'Down'}, {'factory': 'Unknown', 'id': 6, 'machineType': 'Medium Capacity Cutting Machine', 'name': 'Medium Capacity Cutting Machine 2', 'productionLine': 2, 'status': 'Down'}, {'factory': 'Unknown', 'id': 7, 'machineType': 'Testing Machine', 'name': 'Testing Machine 1', 'productionLine': 1, 'status': 'Down'}, {'factory': 'Unknown', 'id': 8, 'machineType': 'Testing Machine', 'name': 'Testing Machine 2', 'productionLine': 2, 'status': 'Down'}, {'factory': 'Unknown', 'id': 9, 'machineType': 'Low Capacity Cutting Machine', 'name': 'Low Capacity Cutting Machine 1', 'productionLine': 1, 'status': 'Down'}, {'factory': 'Unknown', 'id': 10, 'machineType': 'Medium Capacity Cutting Machine', 'name': 'Medium Capacity Cutting Machine 3', 'productionLine': 3, 'status': 'Down'}, {'factory': 'Unknown', 'id': 11, 'machineType': 'Assembly Machine', 'name': 'Assembly Machine 1', 'productionLine': 1, 'status': 'Down'}, {'factory': 'Unknown', 'id': 12, 'machineType': 'Laser Welding Machine', 'name': 'Laser Welding Machine 1', 'productionLine': 1, 'status': 'Down'}, {'factory': 'Unknown', 'id': 13, 'machineType': 'Assembly Machine', 'name': 'Assembly Machine 2', 'productionLine': 2, 'status': 'Down'}, {'factory': 'Unknown', 'id': 14, 'machineType': 'Assembly Machine', 'name': 'Assembly Machine 3', 'productionLine': 3, 'status': 'Down'}, {'factory': 'Unknown', 'id': 15, 'machineType': 'Laser Welding Machine', 'name': 'Laser Welding Machine 2', 'productionLine': 2, 'status': 'Down'}, {'factory': 'Unknown', 'id': 16, 'machineType': 'Testing Machine', 'name': 'Testing Machine 3', 'productionLine': 3, 'status': 'Down'}]\n"
     ]
    },
    {
     "name": "stderr",
     "output_type": "stream",
     "text": [
      "c:\\Users\\andre\\anaconda3\\envs\\HLT\\lib\\site-packages\\urllib3\\connectionpool.py:1103: InsecureRequestWarning: Unverified HTTPS request is being made to host 'localhost'. Adding certificate verification is strongly advised. See: https://urllib3.readthedocs.io/en/latest/advanced-usage.html#tls-warnings\n",
      "  warnings.warn(\n"
     ]
    }
   ],
   "source": [
    "#get machine list\n",
    "MACHINE_URL = f'{BASE_URL}/machine'\n",
    "machines, status = call_and_retry(MACHINE_URL, auth_token)\n",
    "if status == 200:\n",
    "    print('Machines: ', machines)\n",
    "else:\n",
    "    print('Failed to get machines')"
   ]
  },
  {
   "cell_type": "markdown",
   "metadata": {},
   "source": [
    "## Add an alert"
   ]
  },
  {
   "cell_type": "code",
   "execution_count": 15,
   "metadata": {},
   "outputs": [
    {
     "name": "stderr",
     "output_type": "stream",
     "text": [
      "c:\\Users\\andre\\anaconda3\\envs\\HLT\\lib\\site-packages\\urllib3\\connectionpool.py:1103: InsecureRequestWarning: Unverified HTTPS request is being made to host 'localhost'. Adding certificate verification is strongly advised. See: https://urllib3.readthedocs.io/en/latest/advanced-usage.html#tls-warnings\n",
      "  warnings.warn(\n"
     ]
    },
    {
     "name": "stdout",
     "output_type": "stream",
     "text": [
      "Unknown error:  CREATED\n",
      "Alert added:  None\n"
     ]
    }
   ],
   "source": [
    "ENDPOINT_URL = f'{BASE_URL}/alert'\n",
    "HEADERS = {\n",
    "    \"timestamp\": \"2023-10-01 08:00:00\",\n",
    "    \"machineID\": \"1\",\n",
    "    \"severity\": \"low\",\n",
    "    \"description\": \"This is a test alert\",\n",
    "    \"KPI\": \"sum(Temperature) > 300\"\n",
    "}\n",
    "new_id, status = call_and_retry(ENDPOINT_URL, auth_token, call_type='POST', header_params=HEADERS)\n",
    "if status == 201:\n",
    "    print('Alert added: ', new_id)\n",
    "else:\n",
    "    print('Failed to add alerts')"
   ]
  },
  {
   "cell_type": "code",
   "execution_count": 16,
   "metadata": {},
   "outputs": [
    {
     "name": "stdout",
     "output_type": "stream",
     "text": [
      "Unknown error:  NOT FOUND\n",
      "Failed to get alert\n"
     ]
    },
    {
     "name": "stderr",
     "output_type": "stream",
     "text": [
      "c:\\Users\\andre\\anaconda3\\envs\\HLT\\lib\\site-packages\\urllib3\\connectionpool.py:1103: InsecureRequestWarning: Unverified HTTPS request is being made to host 'localhost'. Adding certificate verification is strongly advised. See: https://urllib3.readthedocs.io/en/latest/advanced-usage.html#tls-warnings\n",
      "  warnings.warn(\n"
     ]
    }
   ],
   "source": [
    "#get the new alert\n",
    "ALERT_URL = f'{BASE_URL}/alert/id/{new_id}'\n",
    "alert, status = call_and_retry(ALERT_URL, auth_token)\n",
    "if status == 200:\n",
    "    print('Alert: ', alert)\n",
    "else:\n",
    "    print('Failed to get alert')"
   ]
  }
 ],
 "metadata": {
  "kernelspec": {
   "display_name": "HLT",
   "language": "python",
   "name": "python3"
  },
  "language_info": {
   "codemirror_mode": {
    "name": "ipython",
    "version": 3
   },
   "file_extension": ".py",
   "mimetype": "text/x-python",
   "name": "python",
   "nbconvert_exporter": "python",
   "pygments_lexer": "ipython3",
   "version": "3.10.14"
  }
 },
 "nbformat": 4,
 "nbformat_minor": 2
}
