{
 "cells": [
  {
   "cell_type": "markdown",
   "metadata": {},
   "source": [
    "# demo for KPI ENGINE\n",
    "\n",
    "This notebook is intentended to showcase the capabilities of the kpi engine for milestone 2.\n",
    "\n",
    "Note:the docker container must be up and running"
   ]
  },
  {
   "cell_type": "markdown",
   "metadata": {},
   "source": [
    "## enhanced calculation capabilities\n",
    "\n",
    "New feature: unit calculation support."
   ]
  },
  {
   "cell_type": "code",
   "execution_count": 11,
   "metadata": {},
   "outputs": [
    {
     "name": "stdout",
     "output_type": "stream",
     "text": [
      "measuring unit :#\n",
      "{   'code': 0,\n",
      "    'end_time': '2024-10-19 00:00:00',\n",
      "    'expression': 'avg(good_cycles)',\n",
      "    'reason': '',\n",
      "    'result': {'2024-10-14/2024-10-19': {'values': 10077.2}},\n",
      "    'start_time': '2024-10-14 00:00:00',\n",
      "    'unit': '#'}\n"
     ]
    }
   ],
   "source": [
    "import requests\n",
    "from pprint import pprint\n",
    "\n",
    "url='http://localhost:8000/calculate/'\n",
    "request_data={\n",
    "    'machine_id':'ast-xpimckaf3dlf',\n",
    "    'start_date':'2024-10-14',\n",
    "    'end_date':'2024-10-19',\n",
    "    'expression':'avg(good_cycles)',\n",
    "}\n",
    "request_result=requests.get(url=url,params=request_data).json()\n",
    "\n",
    "print(f\"measuring unit :{request_result['unit']}\")\n",
    "pprint(request_result,indent=4)\n"
   ]
  },
  {
   "cell_type": "markdown",
   "metadata": {},
   "source": [
    "Now time aggregations are possible.\n",
    "- on a weekly basis\n",
    "- on a monthly basis\n",
    "\n",
    "Also the output is much more structured"
   ]
  },
  {
   "cell_type": "code",
   "execution_count": 12,
   "metadata": {},
   "outputs": [
    {
     "name": "stdout",
     "output_type": "stream",
     "text": [
      "{   '2024-09-01/2024-09-01': {'values': 0},\n",
      "    '2024-09-02/2024-09-08': {'values': 35692.0},\n",
      "    '2024-09-09/2024-09-15': {'values': 38216.0},\n",
      "    '2024-09-16/2024-09-22': {'values': 54193.0},\n",
      "    '2024-09-23/2024-09-29': {'values': 32591.0},\n",
      "    '2024-09-30/2024-10-06': {'values': 37535.0},\n",
      "    '2024-10-07/2024-10-13': {'values': 25077.0},\n",
      "    '2024-10-14/2024-10-20': {'values': 51111.0},\n",
      "    '2024-10-21/2024-10-27': {'values': 0},\n",
      "    '2024-10-28/2024-10-30': {'values': 0}}\n"
     ]
    }
   ],
   "source": [
    "request_data['expression']=\"sum(good_cycles)\"\n",
    "request_data['start_date']=\"2024-09-01\"\n",
    "request_data['end_date']=\"2024-10-30\"\n",
    "request_data['unit']='w'\n",
    "\n",
    "request_result=requests.get(url=url,params=request_data).json()\n",
    "\n",
    "pprint(request_result['result'],indent=4)"
   ]
  },
  {
   "cell_type": "code",
   "execution_count": 13,
   "metadata": {},
   "outputs": [
    {
     "name": "stdout",
     "output_type": "stream",
     "text": [
      "{'2024-09-01/2024-09-30': {'values': 160692.0},\n",
      " '2024-10-01/2024-10-30': {'values': 113723.0}}\n"
     ]
    }
   ],
   "source": [
    "request_data['expression']=\"sum(good_cycles)\"\n",
    "request_data['start_date']=\"2024-09-01\"\n",
    "request_data['end_date']=\"2024-10-30\"\n",
    "request_data['unit']='m'\n",
    "\n",
    "request_result=requests.get(url=url,params=request_data).json()\n",
    "\n",
    "pprint(request_result['result'])"
   ]
  },
  {
   "cell_type": "markdown",
   "metadata": {},
   "source": [
    "Now it is possible to use values from the knowledge base."
   ]
  },
  {
   "cell_type": "code",
   "execution_count": 24,
   "metadata": {},
   "outputs": [
    {
     "name": "stdout",
     "output_type": "stream",
     "text": [
      "{'2024-10-14/2024-10-20': {'values': 150.1702},\n",
      " '2024-10-21/2024-10-27': {'values': 0},\n",
      " '2024-10-28/2024-10-30': {'values': 0}}\n"
     ]
    }
   ],
   "source": [
    "request_data['expression']=\"sum(machine_down_time_percentage)\"\n",
    "request_data['start_date']=\"2024-10-14\"\n",
    "request_data['end_date']=\"2024-10-30\"\n",
    "request_data['unit']='w'\n",
    "\n",
    "request_result=requests.get(url=url,params=request_data).json()\n",
    "\n",
    "pprint(request_result['result'])"
   ]
  },
  {
   "cell_type": "markdown",
   "metadata": {},
   "source": [
    "Both base KPIs and KPIs present in the knowledge base can be used together."
   ]
  },
  {
   "cell_type": "code",
   "execution_count": 15,
   "metadata": {},
   "outputs": [
    {
     "name": "stdout",
     "output_type": "stream",
     "text": [
      "{'2024-10-14/2024-10-19': {'time': ['2024-10-14T00:00:00Z',\n",
      "                                    '2024-10-18T00:00:00Z',\n",
      "                                    '2024-10-17T00:00:00Z',\n",
      "                                    '2024-10-15T00:00:00Z',\n",
      "                                    '2024-10-16T00:00:00Z'],\n",
      "                           'values': [6230.0233,\n",
      "                                      4641.4652,\n",
      "                                      13530.5848,\n",
      "                                      16495.5894,\n",
      "                                      9594.5509]}}\n"
     ]
    }
   ],
   "source": [
    "request_data['expression']=\"machine_down_time_percentage+good_cycles\"\n",
    "request_data['start_date']=\"2024-10-14\"\n",
    "request_data['end_date']=\"2024-10-19\"\n",
    "request_data['unit']='d'\n",
    "\n",
    "request_result=requests.get(url=url,params=request_data).json()\n",
    "\n",
    "pprint(request_result['result'])"
   ]
  },
  {
   "cell_type": "markdown",
   "metadata": {},
   "source": [
    "# AI agent integration (mocked)\n",
    "\n",
    "The AI agent will use the same interface as the others here are some examples of possible interactions:\n",
    "1. specify a KPI for a single machine in a day"
   ]
  },
  {
   "cell_type": "code",
   "execution_count": 16,
   "metadata": {},
   "outputs": [
    {
     "name": "stdout",
     "output_type": "stream",
     "text": [
      "{'2024-10-14/2024-10-15': {'time': ['2024-10-14T00:00:00Z'],\n",
      "                           'values': [13.0233]}}\n"
     ]
    }
   ],
   "source": [
    "request_data['expression']=\"machine_down_time_percentage\"\n",
    "request_data['start_date']=\"2024-10-14\"\n",
    "request_data['end_date']=\"2024-10-15\"\n",
    "request_data['unit']='d'\n",
    "\n",
    "request_result=requests.get(url=url,params=request_data).json()\n",
    "\n",
    "pprint(request_result['result'])"
   ]
  },
  {
   "cell_type": "markdown",
   "metadata": {},
   "source": [
    "2. specify a single KPI for a machine in a time range"
   ]
  },
  {
   "cell_type": "code",
   "execution_count": 17,
   "metadata": {},
   "outputs": [
    {
     "name": "stdout",
     "output_type": "stream",
     "text": [
      "{'2024-10-14/2024-10-19': {'time': ['2024-10-14T00:00:00Z',\n",
      "                                    '2024-10-18T00:00:00Z',\n",
      "                                    '2024-10-17T00:00:00Z',\n",
      "                                    '2024-10-15T00:00:00Z',\n",
      "                                    '2024-10-16T00:00:00Z'],\n",
      "                           'values': [13.0233,\n",
      "                                      28.4652,\n",
      "                                      17.5848,\n",
      "                                      9.5894,\n",
      "                                      37.5509]}}\n"
     ]
    }
   ],
   "source": [
    "request_data['expression']=\"machine_down_time_percentage\"\n",
    "request_data['start_date']=\"2024-10-14\"\n",
    "request_data['end_date']=\"2024-10-19\"\n",
    "request_data['unit']='d'\n",
    "\n",
    "request_result=requests.get(url=url,params=request_data).json()\n",
    "\n",
    "pprint(request_result['result'])"
   ]
  },
  {
   "cell_type": "markdown",
   "metadata": {},
   "source": [
    "3. specify a single aggregation function on KPI for a single machine"
   ]
  },
  {
   "cell_type": "code",
   "execution_count": 18,
   "metadata": {},
   "outputs": [
    {
     "name": "stdout",
     "output_type": "stream",
     "text": [
      "{'2024-10-14/2024-10-19': {'time': ['2024-10-14T00:00:00Z',\n",
      "                                    '2024-10-18T00:00:00Z',\n",
      "                                    '2024-10-17T00:00:00Z',\n",
      "                                    '2024-10-15T00:00:00Z',\n",
      "                                    '2024-10-16T00:00:00Z'],\n",
      "                           'values': [13.0233,\n",
      "                                      28.4652,\n",
      "                                      17.5848,\n",
      "                                      9.5894,\n",
      "                                      37.5509]}}\n"
     ]
    }
   ],
   "source": [
    "request_data['expression']=\"machine_down_time_percentage\"\n",
    "request_data['start_date']=\"2024-10-14\"\n",
    "request_data['end_date']=\"2024-10-19\"\n",
    "request_data['operation']='sum'\n",
    "request_result=requests.get(url=url,params=request_data).json()\n",
    "\n",
    "pprint(request_result['result'])"
   ]
  },
  {
   "cell_type": "markdown",
   "metadata": {},
   "source": [
    "4. specify a time-aggregation for  a KPI on a single machine"
   ]
  },
  {
   "cell_type": "code",
   "execution_count": 19,
   "metadata": {},
   "outputs": [
    {
     "name": "stdout",
     "output_type": "stream",
     "text": [
      "{'2024-10-10/2024-10-13': {'time': ['2024-10-11T00:00:00Z',\n",
      "                                    '2024-10-12T00:00:00Z',\n",
      "                                    '2024-10-10T00:00:00Z'],\n",
      "                           'values': [26.3336, 28.3687, 11.6377]},\n",
      " '2024-10-14/2024-10-20': {'time': ['2024-10-14T00:00:00Z',\n",
      "                                    '2024-10-18T00:00:00Z',\n",
      "                                    '2024-10-19T00:00:00Z',\n",
      "                                    '2024-10-17T00:00:00Z',\n",
      "                                    '2024-10-15T00:00:00Z',\n",
      "                                    '2024-10-16T00:00:00Z'],\n",
      "                           'values': [13.0233,\n",
      "                                      28.4652,\n",
      "                                      17.5848,\n",
      "                                      9.5894,\n",
      "                                      37.5509,\n",
      "                                      43.9566]}}\n"
     ]
    }
   ],
   "source": [
    "request_data['expression']=\"machine_down_time_percentage\"\n",
    "request_data['start_date']=\"2024-10-10\"\n",
    "request_data['end_date']=\"2024-10-20\"\n",
    "request_data['unit']='w'\n",
    "request_data['operation']='sum'\n",
    "request_result=requests.get(url=url,params=request_data).json()\n",
    "\n",
    "pprint(request_result['result'])"
   ]
  },
  {
   "cell_type": "markdown",
   "metadata": {},
   "source": [
    "# alert generation & monitoring capabilities\n",
    "\n",
    "The kpi engine now features alert generation & monitoring capabilities."
   ]
  },
  {
   "cell_type": "code",
   "execution_count": 20,
   "metadata": {},
   "outputs": [
    {
     "name": "stdout",
     "output_type": "stream",
     "text": [
      "evaluating allert with expression avg(good_cycles)>10000\n",
      "date 2024-09-30 00:00:00 no alert detected\n",
      "evaluating allert with expression avg(good_cycles)>10000\n",
      "date 2024-10-01 00:00:00 no alert detected\n",
      "evaluating allert with expression avg(good_cycles)>10000\n",
      "date 2024-10-02 00:00:00 alert detected\n",
      "alert fired\n",
      "evaluating allert with expression avg(good_cycles)>10000\n",
      "date 2024-10-03 00:00:00 no alert detected\n",
      "evaluating allert with expression avg(good_cycles)>10000\n",
      "date 2024-10-04 00:00:00 no alert detected\n",
      "evaluating allert with expression avg(good_cycles)>10000\n",
      "date 2024-10-05 00:00:00 no alert detected\n",
      "evaluating allert with expression avg(good_cycles)>10000\n",
      "date 2024-10-06 00:00:00 no alert detected\n",
      "evaluating allert with expression avg(good_cycles)>10000\n",
      "date 2024-10-07 00:00:00 no alert detected\n",
      "evaluating allert with expression avg(good_cycles)>10000\n",
      "date 2024-10-08 00:00:00 no alert detected\n",
      "evaluating allert with expression avg(good_cycles)>10000\n",
      "date 2024-10-09 00:00:00 no alert detected\n",
      "evaluating allert with expression avg(good_cycles)>10000\n",
      "date 2024-10-10 00:00:00 no alert detected\n",
      "evaluating allert with expression avg(good_cycles)>10000\n",
      "date 2024-10-11 00:00:00 no alert detected\n",
      "evaluating allert with expression avg(good_cycles)>10000\n",
      "date 2024-10-12 00:00:00 no alert detected\n",
      "evaluating allert with expression avg(good_cycles)>10000\n",
      "date 2024-10-13 00:00:00 no alert detected\n",
      "evaluating allert with expression avg(good_cycles)>10000\n",
      "date 2024-10-14 00:00:00 no alert detected\n",
      "evaluating allert with expression avg(good_cycles)>10000\n",
      "date 2024-10-15 00:00:00 alert detected\n",
      "alert fired\n",
      "evaluating allert with expression avg(good_cycles)>10000\n",
      "date 2024-10-16 00:00:00 alert detected\n",
      "alert fired\n",
      "evaluating allert with expression avg(good_cycles)>10000\n",
      "date 2024-10-17 00:00:00 no alert detected\n",
      "evaluating allert with expression avg(good_cycles)>10000\n",
      "date 2024-10-18 00:00:00 no alert detected\n",
      "evaluating allert with expression avg(good_cycles)>10000\n",
      "date 2024-10-19 00:00:00 no alert detected\n"
     ]
    }
   ],
   "source": [
    "import sys\n",
    "import os\n",
    "parent_dir = os.path.abspath(os.path.join(os.getcwd(), \"..\"))\n",
    "sys.path.append(parent_dir)\n",
    "\n",
    "from app.Alert_Monitor.alert_monitor import test_alerts\n",
    "test_alerts()"
   ]
  },
  {
   "cell_type": "code",
   "execution_count": null,
   "metadata": {},
   "outputs": [],
   "source": []
  }
 ],
 "metadata": {
  "kernelspec": {
   "display_name": "Python 3",
   "language": "python",
   "name": "python3"
  },
  "language_info": {
   "codemirror_mode": {
    "name": "ipython",
    "version": 3
   },
   "file_extension": ".py",
   "mimetype": "text/x-python",
   "name": "python",
   "nbconvert_exporter": "python",
   "pygments_lexer": "ipython3",
   "version": "3.12.7"
  }
 },
 "nbformat": 4,
 "nbformat_minor": 2
}
