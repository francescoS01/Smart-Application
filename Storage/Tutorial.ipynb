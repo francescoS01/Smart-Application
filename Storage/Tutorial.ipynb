{
 "cells": [
  {
   "cell_type": "markdown",
   "metadata": {},
   "source": [
    "# Storage Tutorial"
   ]
  },
  {
   "cell_type": "code",
   "execution_count": 1,
   "metadata": {},
   "outputs": [],
   "source": [
    "import psycopg2\n",
    "import warehouse\n",
    "from datetime import datetime, date"
   ]
  },
  {
   "cell_type": "markdown",
   "metadata": {},
   "source": [
    " ### Put machines in the DB"
   ]
  },
  {
   "cell_type": "code",
   "execution_count": 2,
   "metadata": {},
   "outputs": [
    {
     "name": "stdout",
     "output_type": "stream",
     "text": [
      "duplicate key value violates unique constraint \"machines_pkey\"\n",
      "DETAIL:  Key (machineid)=(1) already exists.\n",
      "\n"
     ]
    }
   ],
   "source": [
    "try:\n",
    "    warehouse.put_machine_with_id(1, \"machine1\", machine_line=1)\n",
    "    warehouse.put_machine_with_id(2, \"machine2\", machine_line=0)\n",
    "    warehouse.put_machine_with_id(3, \"machine3\")\n",
    "    warehouse.put_machine_with_id(4, \"machine4\")\n",
    "    warehouse.put_machine_with_id(5, \"machine5\")\n",
    "except psycopg2.errors.UniqueViolation as e:\n",
    "    print(e)"
   ]
  },
  {
   "cell_type": "markdown",
   "metadata": {},
   "source": [
    "### Querying for machine data"
   ]
  },
  {
   "cell_type": "code",
   "execution_count": 6,
   "metadata": {},
   "outputs": [
    {
     "name": "stdout",
     "output_type": "stream",
     "text": [
      "Machine ID, Name, Line, Factory, Type\n",
      "(1, 'machine1', 1, 'Unknown', 'Unknown')\n"
     ]
    }
   ],
   "source": [
    "machine = warehouse.get_machine_data_by_name(\"machine1\")[0]\n",
    "print(\"Machine ID, Name, Line, Factory, Type\")\n",
    "print(machine)\n",
    "machine_id = machine[0]"
   ]
  },
  {
   "cell_type": "markdown",
   "metadata": {},
   "source": [
    "### Querying for measurments"
   ]
  },
  {
   "cell_type": "code",
   "execution_count": 9,
   "metadata": {},
   "outputs": [],
   "source": [
    "measurements = warehouse.get_measurement_with_kpi(\n",
    "    1,\n",
    "    \"cost\",\n",
    "    start_time=date(2020, 1, 1),\n",
    "    end_time=datetime.now(),\n",
    ")"
   ]
  },
  {
   "cell_type": "code",
   "execution_count": 10,
   "metadata": {},
   "outputs": [
    {
     "name": "stdout",
     "output_type": "stream",
     "text": [
      "(datetime.datetime(2024, 11, 25, 20, 31, 57, 723000), 1, {'cost': 0.9278799772149287, 'power': 0.01634889418807095, 'cycles': 1.9932497035351973, 'cost_idle': 1.1791964872748568, 'idle_time': 0.39657810470114985, 'bad_cycles': 0.6663320162043305, 'consumption': 1.3705035674606598, 'good_cycles': 0.3530183694524952, 'temperature': 0.44111023415172945, 'cost_working': 0.16890078472901182, 'offline_time': 0.3202855519215789, 'working_time': 1.9417154046806644, 'acceleration_x': -0.514156663052727, 'acceleration_y': 2.4041193322985697, 'acceleration_z': -1.5310825928736305, 'consumption_idle': 1.193887741249104, 'average_cycle_time': 2.645671760582678, 'consumption_working': 0.3090373644593587})\n",
      "(datetime.datetime(2024, 11, 25, 20, 31, 57, 844000), 1, {'cost': 0.09887984960461649, 'power': 2.221436413076672, 'cycles': 3.227577292070218, 'cost_idle': 0.5463012698753839, 'idle_time': 1.0036485171514045, 'bad_cycles': 0.9815330795532842, 'consumption': 2.503680882481937, 'good_cycles': 0.3552414935512671, 'temperature': 0.8808766889154269, 'cost_working': 1.0802330424106115, 'offline_time': 0.40303725191429796, 'working_time': 1.7964658402935512, 'acceleration_x': 1.8043299319195407, 'acceleration_y': -0.16036217905701025, 'acceleration_z': -0.05065971364872301, 'consumption_idle': 1.5522200050609998, 'average_cycle_time': 1.2882437455810756, 'consumption_working': 0.2581032977244673})\n",
      "(datetime.datetime(2024, 11, 25, 20, 31, 57, 958000), 1, {'cost': 1.008376179502045, 'power': 2.166490138238534, 'cycles': 1.468549782252779, 'cost_idle': 1.5036300563785048, 'idle_time': 0.009393761651699029, 'bad_cycles': 1.1871228977998094, 'consumption': 0.32408246447202194, 'good_cycles': 2.207003179365345, 'temperature': 1.357500048364412, 'cost_working': 0.44723530287929425, 'offline_time': 1.6730299840253857, 'working_time': 0.8091261103987397, 'acceleration_x': -1.029804804536397, 'acceleration_y': 0.7685090969541892, 'acceleration_z': 0.42529911585764635, 'consumption_idle': 2.800263360441299, 'average_cycle_time': 3.6116075272560475, 'consumption_working': 0.07980633216645949})\n",
      "(datetime.datetime(2024, 11, 25, 20, 31, 58, 74000), 1, {'cost': 0.21262421504719775, 'power': 0.6605645916870113, 'cycles': 0.07518099652580645, 'cost_idle': 1.491293549307428, 'idle_time': 0.8840957709387121, 'bad_cycles': 0.18911118693498352, 'consumption': 1.8011650401167723, 'good_cycles': 0.43233408000633355, 'temperature': 0.26361589619592873, 'cost_working': 0.14582794583871483, 'offline_time': 1.9801990211840204, 'working_time': 1.3211499734925591, 'acceleration_x': -0.37900852336705276, 'acceleration_y': 0.23896969923651049, 'acceleration_z': 0.5968890727968448, 'consumption_idle': 0.6937324534033066, 'average_cycle_time': 0.4392826875157212, 'consumption_working': 2.3246786624104563})\n",
      "(datetime.datetime(2024, 11, 25, 20, 31, 58, 188000), 1, {'cost': 1.0439815288694376, 'power': 1.0977293717290006, 'cycles': 0.035828348886423944, 'cost_idle': 2.7040273506937487, 'idle_time': 0.04846206043402734, 'bad_cycles': 0.7773248866951089, 'consumption': 1.0637455927915584, 'good_cycles': 0.7485650452150259, 'temperature': 1.734895191239904, 'cost_working': 0.10980598164767919, 'offline_time': 0.5708474906985468, 'working_time': 0.1102432745276205, 'acceleration_x': -1.802034113723568, 'acceleration_y': 1.0550577298050254, 'acceleration_z': -0.8179729970986531, 'consumption_idle': 0.35225501740673826, 'average_cycle_time': 0.22842167746876918, 'consumption_working': 2.816988861630594})\n"
     ]
    }
   ],
   "source": [
    "for mesurement in measurements:\n",
    "    print(mesurement)"
   ]
  },
  {
   "cell_type": "markdown",
   "metadata": {},
   "source": [
    "### Querying alerts"
   ]
  },
  {
   "cell_type": "markdown",
   "metadata": {},
   "source": [
    "... by machine that caused the alert"
   ]
  },
  {
   "cell_type": "code",
   "execution_count": 13,
   "metadata": {},
   "outputs": [
    {
     "name": "stdout",
     "output_type": "stream",
     "text": [
      "(122, 1, datetime.datetime(2024, 11, 25, 20, 32, 9, 365000), 2, 'KPI 54', 'Alert 98')\n",
      "(123, 1, datetime.datetime(2024, 11, 25, 20, 32, 10, 369000), 1, 'KPI 66', 'Alert 34')\n",
      "(124, 1, datetime.datetime(2024, 11, 25, 20, 32, 11, 375000), 2, 'KPI 39', 'Alert 52')\n",
      "(125, 1, datetime.datetime(2024, 11, 25, 20, 32, 12, 380000), 2, 'KPI 75', 'Alert 46')\n",
      "(126, 1, datetime.datetime(2024, 11, 25, 20, 32, 13, 386000), 1, 'KPI 18', 'Alert 65')\n"
     ]
    }
   ],
   "source": [
    "alerts = warehouse.get_alert_by_machine_id(machine_id)\n",
    "for alert in alerts:\n",
    "    print(alert)"
   ]
  },
  {
   "cell_type": "markdown",
   "metadata": {},
   "source": [
    "... by production line"
   ]
  },
  {
   "cell_type": "code",
   "execution_count": 14,
   "metadata": {},
   "outputs": [
    {
     "name": "stdout",
     "output_type": "stream",
     "text": [
      "(122, 1, datetime.datetime(2024, 11, 25, 20, 32, 9, 365000), 2, 'KPI 54', 'Alert 98')\n",
      "(123, 1, datetime.datetime(2024, 11, 25, 20, 32, 10, 369000), 1, 'KPI 66', 'Alert 34')\n",
      "(124, 1, datetime.datetime(2024, 11, 25, 20, 32, 11, 375000), 2, 'KPI 39', 'Alert 52')\n",
      "(125, 1, datetime.datetime(2024, 11, 25, 20, 32, 12, 380000), 2, 'KPI 75', 'Alert 46')\n",
      "(126, 1, datetime.datetime(2024, 11, 25, 20, 32, 13, 386000), 1, 'KPI 18', 'Alert 65')\n"
     ]
    }
   ],
   "source": [
    "# get alerts by line\n",
    "alerts = warehouse.get_alerts_by_line(1)\n",
    "for alert in alerts:\n",
    "    print(alert)"
   ]
  },
  {
   "cell_type": "code",
   "execution_count": null,
   "metadata": {},
   "outputs": [],
   "source": []
  }
 ],
 "metadata": {
  "kernelspec": {
   "display_name": ".venv",
   "language": "python",
   "name": "python3"
  },
  "language_info": {
   "codemirror_mode": {
    "name": "ipython",
    "version": 3
   },
   "file_extension": ".py",
   "mimetype": "text/x-python",
   "name": "python",
   "nbconvert_exporter": "python",
   "pygments_lexer": "ipython3",
   "version": "3.11.10"
  }
 },
 "nbformat": 4,
 "nbformat_minor": 2
}
