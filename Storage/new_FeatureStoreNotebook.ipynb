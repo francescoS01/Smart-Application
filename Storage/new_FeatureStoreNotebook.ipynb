{
 "cells": [
  {
   "cell_type": "markdown",
   "metadata": {},
   "source": [
    "Import all libraries, create engine, Feast apply"
   ]
  },
  {
   "cell_type": "code",
   "execution_count": null,
   "metadata": {},
   "outputs": [],
   "source": [
    "from feature_store_utils import *\n",
    "import pytz\n",
    "tz = pytz.timezone('Europe/Rome')\n",
    "\n",
    "engine = new_engine()\n",
    "store = start_store(\"postgres_store/feature_repo\")"
   ]
  },
  {
   "cell_type": "markdown",
   "metadata": {},
   "source": [
    "insert_data_to_sql"
   ]
  },
  {
   "cell_type": "code",
   "execution_count": null,
   "metadata": {},
   "outputs": [],
   "source": [
    "historical_data = {\n",
    "    \"timestamp\": [\n",
    "        datetime.now(tz),\n",
    "        datetime(2024, 11, 21, 8, 12, 10),\n",
    "        datetime(2024, 11, 17, 16, 40, 26),\n",
    "        datetime(2024, 11, 21, 8, 12, 10)\n",
    "    ],\n",
    "    \"machineid\": ['1','2','3','1'],\n",
    "    \"kpi\": ['x_acceleration','y_acceleration','z_acceleration','x_acceleration'],\n",
    "    \"aggregation_type\": ['sum','min','avg','min'],\n",
    "    \"value\": [1.0, 2.0, 3.0, 4.0],\n",
    "    \"imputation\": [False, False, True, False],\n",
    "    \"anomaly\": [False, False, True, False],\n",
    "    \"trend_drift\": [0.1, 0.2, 0.3, 0.4],\n",
    "    \"next_days_predictions\": [[75.5, 75.6, 75.7, 75.8, 75.9, 76.0, 76.1, 76.2, 76.3, 76.4, 76.5, 76.6, 76.7, 76.8, 76.9, 77.0, 77.1, 77.2, 77.3, 77.4, 77.5],\n",
    "                            [75.5, 75.6, 75.7, 75.8, 75.9, 76.0, 76.1, 76.2, 76.3, 76.4, 76.5, 76.6, 76.7, 76.8, 76.9, 77.0, 77.1, 77.2, 77.3, 77.4, 77.5],\n",
    "                            [75.5, 75.6, 75.7, 75.8, 75.9, 76.0, 76.1, 76.2, 76.3, 76.4, 76.5, 76.6, 76.7, 76.8, 76.9, 77.0, 77.1, 77.2, 77.3, 77.4, 77.5],\n",
    "                            [75.5, 75.6, 75.7, 75.8, 75.9, 76.0, 76.1, 76.2, 76.3, 76.4, 76.5, 76.6, 76.7, 76.8, 76.9, 77.0, 77.1, 77.2, 77.3, 77.4, 77.5]],\n",
    "    \"confidence_interval_lower\": [[75.4, 75.5, 75.6, 75.7, 75.8, 75.9, 76.0, 76.1, 76.2, 76.3, 76.4, 76.5, 76.6, 76.7, 76.8, 76.9, 77.0, 77.1, 77.2, 77.3, 77.4],\n",
    "                                  [75.4, 75.5, 75.6, 75.7, 75.8, 75.9, 76.0, 76.1, 76.2, 76.3, 76.4, 76.5, 76.6, 76.7, 76.8, 76.9, 77.0, 77.1, 77.2, 77.3, 77.4],\n",
    "                                  [75.4, 75.5, 75.6, 75.7, 75.8, 75.9, 76.0, 76.1, 76.2, 76.3, 76.4, 76.5, 76.6, 76.7, 76.8, 76.9, 77.0, 77.1, 77.2, 77.3, 77.4],\n",
    "                                  [75.4, 75.5, 75.6, 75.7, 75.8, 75.9, 76.0, 76.1, 76.2, 76.3, 76.4, 76.5, 76.6, 76.7, 76.8, 76.9, 77.0, 77.1, 77.2, 77.3, 77.4]],\n",
    "    \"confidence_interval_upper\": [[75.6, 75.7, 75.8, 75.9, 76.0, 76.1, 76.2, 76.3, 76.4, 76.5, 76.6, 76.7, 76.8, 76.9, 77.0, 77.1, 77.2, 77.3, 77.4, 77.5, 77.6],\n",
    "                                  [75.6, 75.7, 75.8, 75.9, 76.0, 76.1, 76.2, 76.3, 76.4, 76.5, 76.6, 76.7, 76.8, 76.9, 77.0, 77.1, 77.2, 77.3, 77.4, 77.5, 77.6],\n",
    "                                  [75.6, 75.7, 75.8, 75.9, 76.0, 76.1, 76.2, 76.3, 76.4, 76.5, 76.6, 76.7, 76.8, 76.9, 77.0, 77.1, 77.2, 77.3, 77.4, 77.5, 77.6],\n",
    "                                  [75.6, 75.7, 75.8, 75.9, 76.0, 76.1, 76.2, 76.3, 76.4, 76.5, 76.6, 76.7, 76.8, 76.9, 77.0, 77.1, 77.2, 77.3, 77.4, 77.5, 77.6]]\n",
    "    }\n",
    "historical_data_df = pd.DataFrame(historical_data)\n",
    "insert_data_to_sql(historical_data_df, \"historical_store\", engine)\n",
    "\n",
    "params_data = {\n",
    "    \"timestamp\": [datetime(2024, 11, 21, 8, 12, 10)],\n",
    "    \"machineid\": ['1'],\n",
    "    \"kpi\": ['x_acceleration'],\n",
    "    \"aggregation_type\": ['sum'],\n",
    "    \"min_threshold\": [0.0],\n",
    "    \"max_threshold\": [2.0],\n",
    "    \"selected_f\": [3]\n",
    "}\n",
    "params_data_df = pd.DataFrame(params_data)\n",
    "insert_data_to_sql(params_data_df, \"kpi_machine_agg_params\", engine)"
   ]
  },
  {
   "cell_type": "markdown",
   "metadata": {},
   "source": [
    "delete_data_from_sql"
   ]
  },
  {
   "cell_type": "code",
   "execution_count": null,
   "metadata": {},
   "outputs": [],
   "source": [
    "conditions = {\n",
    "    \"machineid\": '2'\n",
    "}\n",
    "delete_data_from_sql(\"historical_store\", engine, conditions, start_time=datetime(2021, 11, 21, 8, 12, 10), end_time=datetime(2029, 11, 21, 8, 12, 10))"
   ]
  },
  {
   "cell_type": "markdown",
   "metadata": {},
   "source": [
    "get_data_from_sql"
   ]
  },
  {
   "cell_type": "code",
   "execution_count": null,
   "metadata": {},
   "outputs": [],
   "source": [
    "table_name = \"historical_store\"\n",
    "attributes = ['value', 'imputation', 'anomaly', 'trend_drift', 'next_days_predictions']\n",
    "attributes=None\n",
    "conditions = {\n",
    "    'machineid': ['1', '2'],\n",
    "    'kpi': ['x_acceleration', 'y_acceleration','temperature'],\n",
    "    }\n",
    "start_time = datetime(2023, 1, 21, 8, 12, 10)\n",
    "end_time = datetime(2024, 12, 21, 8, 12, 10)\n",
    "result_df = get_data_from_sql(table_name, engine, attributes, conditions, start_time, end_time)\n",
    "print(result_df.head())"
   ]
  },
  {
   "cell_type": "markdown",
   "metadata": {},
   "source": [
    "insert_data_to_redis"
   ]
  },
  {
   "cell_type": "code",
   "execution_count": null,
   "metadata": {},
   "outputs": [],
   "source": [
    "feature_view_name = \"historical_store\"\n",
    "new_data = {\n",
    "    \"timestamp\": [\n",
    "        datetime.now(tz),\n",
    "        datetime(2024, 11, 21, 8, 12, 10),\n",
    "        datetime(2024, 11, 17, 16, 40, 26),\n",
    "        datetime(2024, 11, 21, 8, 12, 10)\n",
    "    ],\n",
    "    \"machineid\": ['1','2','3','1'],\n",
    "    \"kpi\": ['x_acceleration','y_acceleration','z_acceleration','x_acceleration'],\n",
    "    \"aggregation_type\": ['max','max','max','max'],\n",
    "    \"value\": [1.0, 2.0, 3.0, 4.0],\n",
    "    \"imputation\": [False, False, True, False],\n",
    "    \"anomaly\": [False, False, True, False],\n",
    "    \"trend_drift\": [0.1, 0.2, 0.3, 0.4],\n",
    "    \"next_days_predictions\": [[75.5, 75.6, 75.7, 75.8, 75.9, 76.0, 76.1, 76.2, 76.3, 76.4, 76.5, 76.6, 76.7, 76.8, 76.9, 77.0, 77.1, 77.2, 77.3, 77.4, 77.5],\n",
    "                            [75.5, 75.6, 75.7, 75.8, 75.9, 76.0, 76.1, 76.2, 76.3, 76.4, 76.5, 76.6, 76.7, 76.8, 76.9, 77.0, 77.1, 77.2, 77.3, 77.4, 77.5],\n",
    "                            [75.5, 75.6, 75.7, 75.8, 75.9, 76.0, 76.1, 76.2, 76.3, 76.4, 76.5, 76.6, 76.7, 76.8, 76.9, 77.0, 77.1, 77.2, 77.3, 77.4, 77.5],\n",
    "                            [75.5, 75.6, 75.7, 75.8, 75.9, 76.0, 76.1, 76.2, 76.3, 76.4, 76.5, 76.6, 76.7, 76.8, 76.9, 77.0, 77.1, 77.2, 77.3, 77.4, 77.5]],\n",
    "    \"confidence_interval_lower\": [[75.4, 75.5, 75.6, 75.7, 75.8, 75.9, 76.0, 76.1, 76.2, 76.3, 76.4, 76.5, 76.6, 76.7, 76.8, 76.9, 77.0, 77.1, 77.2, 77.3, 77.4],\n",
    "                                  [75.4, 75.5, 75.6, 75.7, 75.8, 75.9, 76.0, 76.1, 76.2, 76.3, 76.4, 76.5, 76.6, 76.7, 76.8, 76.9, 77.0, 77.1, 77.2, 77.3, 77.4],\n",
    "                                  [75.4, 75.5, 75.6, 75.7, 75.8, 75.9, 76.0, 76.1, 76.2, 76.3, 76.4, 76.5, 76.6, 76.7, 76.8, 76.9, 77.0, 77.1, 77.2, 77.3, 77.4],\n",
    "                                  [75.4, 75.5, 75.6, 75.7, 75.8, 75.9, 76.0, 76.1, 76.2, 76.3, 76.4, 76.5, 76.6, 76.7, 76.8, 76.9, 77.0, 77.1, 77.2, 77.3, 77.4]],\n",
    "    \"confidence_interval_upper\": [[75.6, 75.7, 75.8, 75.9, 76.0, 76.1, 76.2, 76.3, 76.4, 76.5, 76.6, 76.7, 76.8, 76.9, 77.0, 77.1, 77.2, 77.3, 77.4, 77.5, 77.6],\n",
    "                                  [75.6, 75.7, 75.8, 75.9, 76.0, 76.1, 76.2, 76.3, 76.4, 76.5, 76.6, 76.7, 76.8, 76.9, 77.0, 77.1, 77.2, 77.3, 77.4, 77.5, 77.6],\n",
    "                                  [75.6, 75.7, 75.8, 75.9, 76.0, 76.1, 76.2, 76.3, 76.4, 76.5, 76.6, 76.7, 76.8, 76.9, 77.0, 77.1, 77.2, 77.3, 77.4, 77.5, 77.6],\n",
    "                                  [75.6, 75.7, 75.8, 75.9, 76.0, 76.1, 76.2, 76.3, 76.4, 76.5, 76.6, 76.7, 76.8, 76.9, 77.0, 77.1, 77.2, 77.3, 77.4, 77.5, 77.6]]\n",
    "    }\n",
    "new_data_df = pd.DataFrame(new_data)\n",
    "insert_data_to_redis(new_data_df, store, feature_view_name)"
   ]
  },
  {
   "cell_type": "markdown",
   "metadata": {},
   "source": [
    "get_filtered_online_features"
   ]
  },
  {
   "cell_type": "code",
   "execution_count": null,
   "metadata": {},
   "outputs": [],
   "source": [
    "feature_view_name = \"historical_store\"\n",
    "attributes = [\"anomaly\", \"imputation\", \"value\", \"trend_drift\", \"next_days_predictions\"]\n",
    "conditions = {\n",
    "    'machineid': ['1', '2'],\n",
    "    'kpi': ['x_acceleration', 'y_acceleration'],\n",
    "    'aggregation_type': ['max','avg']\n",
    "}\n",
    "\n",
    "df = get_filtered_online_features(store, feature_view_name, attributes, conditions)\n",
    "print(df)"
   ]
  },
  {
   "cell_type": "markdown",
   "metadata": {},
   "source": [
    "insert_new_data (Insert data in both)"
   ]
  },
  {
   "cell_type": "code",
   "execution_count": null,
   "metadata": {},
   "outputs": [],
   "source": [
    "new_data = {\n",
    "    \"timestamp\": [\n",
    "        datetime.now(tz),\n",
    "        datetime(2024, 11, 21, 8, 12, 10),\n",
    "        datetime(2024, 11, 17, 16, 40, 26),\n",
    "        datetime(2024, 11, 21, 8, 12, 10)\n",
    "    ],\n",
    "    \"machineid\": ['1','2','3','1'],\n",
    "    \"kpi\": ['x_acceleration','y_acceleration','z_acceleration','x_acceleration'],\n",
    "    \"aggregation_type\": ['avg','avg','avg','avg'],\n",
    "    \"value\": [1.0, 2.0, 3.0, 4.0],\n",
    "    \"imputation\": [False, False, True, False],\n",
    "    \"anomaly\": [False, False, True, False],\n",
    "    \"trend_drift\": [0.1, 0.2, 0.3, 0.4],\n",
    "    \"next_days_predictions\": [[75.5, 75.6, 75.7, 75.8, 75.9, 76.0, 76.1, 76.2, 76.3, 76.4, 76.5, 76.6, 76.7, 76.8, 76.9, 77.0, 77.1, 77.2, 77.3, 77.4, 77.5],\n",
    "                            [75.5, 75.6, 75.7, 75.8, 75.9, 76.0, 76.1, 76.2, 76.3, 76.4, 76.5, 76.6, 76.7, 76.8, 76.9, 77.0, 77.1, 77.2, 77.3, 77.4, 77.5],\n",
    "                            [75.5, 75.6, 75.7, 75.8, 75.9, 76.0, 76.1, 76.2, 76.3, 76.4, 76.5, 76.6, 76.7, 76.8, 76.9, 77.0, 77.1, 77.2, 77.3, 77.4, 77.5],\n",
    "                            [75.5, 75.6, 75.7, 75.8, 75.9, 76.0, 76.1, 76.2, 76.3, 76.4, 76.5, 76.6, 76.7, 76.8, 76.9, 77.0, 77.1, 77.2, 77.3, 77.4, 77.5]],\n",
    "    \"confidence_interval_lower\": [[75.4, 75.5, 75.6, 75.7, 75.8, 75.9, 76.0, 76.1, 76.2, 76.3, 76.4, 76.5, 76.6, 76.7, 76.8, 76.9, 77.0, 77.1, 77.2, 77.3, 77.4],\n",
    "                                  [75.4, 75.5, 75.6, 75.7, 75.8, 75.9, 76.0, 76.1, 76.2, 76.3, 76.4, 76.5, 76.6, 76.7, 76.8, 76.9, 77.0, 77.1, 77.2, 77.3, 77.4],\n",
    "                                  [75.4, 75.5, 75.6, 75.7, 75.8, 75.9, 76.0, 76.1, 76.2, 76.3, 76.4, 76.5, 76.6, 76.7, 76.8, 76.9, 77.0, 77.1, 77.2, 77.3, 77.4],\n",
    "                                  [75.4, 75.5, 75.6, 75.7, 75.8, 75.9, 76.0, 76.1, 76.2, 76.3, 76.4, 76.5, 76.6, 76.7, 76.8, 76.9, 77.0, 77.1, 77.2, 77.3, 77.4]],\n",
    "    \"confidence_interval_upper\": [[75.6, 75.7, 75.8, 75.9, 76.0, 76.1, 76.2, 76.3, 76.4, 76.5, 76.6, 76.7, 76.8, 76.9, 77.0, 77.1, 77.2, 77.3, 77.4, 77.5, 77.6],\n",
    "                                  [75.6, 75.7, 75.8, 75.9, 76.0, 76.1, 76.2, 76.3, 76.4, 76.5, 76.6, 76.7, 76.8, 76.9, 77.0, 77.1, 77.2, 77.3, 77.4, 77.5, 77.6],\n",
    "                                  [75.6, 75.7, 75.8, 75.9, 76.0, 76.1, 76.2, 76.3, 76.4, 76.5, 76.6, 76.7, 76.8, 76.9, 77.0, 77.1, 77.2, 77.3, 77.4, 77.5, 77.6],\n",
    "                                  [75.6, 75.7, 75.8, 75.9, 76.0, 76.1, 76.2, 76.3, 76.4, 76.5, 76.6, 76.7, 76.8, 76.9, 77.0, 77.1, 77.2, 77.3, 77.4, 77.5, 77.6]]\n",
    "    }\n",
    "new_data_df = pd.DataFrame(new_data)\n",
    "insert_new_data(new_data_df, \"historical_store\", engine, store)"
   ]
  }
 ],
 "metadata": {
  "kernelspec": {
   "display_name": "venv",
   "language": "python",
   "name": "python3"
  },
  "language_info": {
   "codemirror_mode": {
    "name": "ipython",
    "version": 3
   },
   "file_extension": ".py",
   "mimetype": "text/x-python",
   "name": "python",
   "nbconvert_exporter": "python",
   "pygments_lexer": "ipython3",
   "version": "3.12.3"
  }
 },
 "nbformat": 4,
 "nbformat_minor": 2
}
