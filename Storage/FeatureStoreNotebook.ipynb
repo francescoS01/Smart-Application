{
 "cells": [
  {
   "cell_type": "markdown",
   "metadata": {},
   "source": [
    "Import all libraries, create engine, Feast apply"
   ]
  },
  {
   "cell_type": "code",
   "execution_count": 1,
   "metadata": {},
   "outputs": [
    {
     "name": "stderr",
     "output_type": "stream",
     "text": [
      "c:\\Users\\utente\\anaconda3\\envs\\DM\\lib\\site-packages\\feast\\feature_view.py:48: DeprecationWarning: Entity value_type will be mandatory in the next release. Please specify a value_type for entity '__dummy'.\n",
      "  DUMMY_ENTITY = Entity(\n"
     ]
    }
   ],
   "source": [
    "from feature_store_utils import *\n",
    "import pytz\n",
    "tz = pytz.timezone('Europe/Rome')\n",
    "\n",
    "engine = new_engine()\n",
    "#store = start_store(\"postgres_store/feature_repo\")"
   ]
  },
  {
   "cell_type": "markdown",
   "metadata": {},
   "source": [
    "### **1. Postgres**"
   ]
  },
  {
   "cell_type": "markdown",
   "metadata": {},
   "source": [
    "#### **1.1 Insert data to SQL**"
   ]
  },
  {
   "cell_type": "code",
   "execution_count": 2,
   "metadata": {},
   "outputs": [
    {
     "name": "stdout",
     "output_type": "stream",
     "text": [
      "Errore durante l'inserimento dei dati: (psycopg2.errors.UniqueViolation) duplicate key value violates unique constraint \"historical_store_pkey\"\n",
      "DETAIL:  Key (\"timestamp\", machineid, kpi, aggregation_type)=(2024-11-17 16:40:26, 3, z_acceleration, avg) already exists.\n",
      "\n",
      "[SQL: INSERT INTO historical_store (timestamp, machineid, kpi, aggregation_type, value, imputation, anomaly, trend_drift, next_days_predictions, confidence_interval_lower, confidence_interval_upper) VALUES (%(timestamp__0)s, %(machineid__0)s, %(kpi__0)s, % ... 816 characters truncated ... s, %(next_days_predictions__3)s, %(confidence_interval_lower__3)s, %(confidence_interval_upper__3)s)]\n",
      "[parameters: {'value__0': 1.0, 'kpi__0': 'x_acceleration', 'anomaly__0': False, 'trend_drift__0': 0.1, 'machineid__0': '1', 'next_days_predictions__0': [75.5, 75.6, 75.7, 75.8, 75.9, 76.0, 76.1, 76.2, 76.3, 76.4, 76.5, 76.6, 76.7, 76.8, 76.9, 77.0, 77.1, 77.2, 77.3, 77.4, 77.5], 'confidence_interval_lower__0': [75.4, 75.5, 75.6, 75.7, 75.8, 75.9, 76.0, 76.1, 76.2, 76.3, 76.4, 76.5, 76.6, 76.7, 76.8, 76.9, 77.0, 77.1, 77.2, 77.3, 77.4], 'timestamp__0': datetime.datetime(2025, 1, 30, 21, 56, 10, 746095, tzinfo=<DstTzInfo 'Europe/Rome' CET+1:00:00 STD>), 'imputation__0': False, 'confidence_interval_upper__0': [75.6, 75.7, 75.8, 75.9, 76.0, 76.1, 76.2, 76.3, 76.4, 76.5, 76.6, 76.7, 76.8, 76.9, 77.0, 77.1, 77.2, 77.3, 77.4, 77.5, 77.6], 'aggregation_type__0': 'sum', 'value__1': 2.0, 'kpi__1': 'y_acceleration', 'anomaly__1': False, 'trend_drift__1': 0.2, 'machineid__1': '2', 'next_days_predictions__1': [75.5, 75.6, 75.7, 75.8, 75.9, 76.0, 76.1, 76.2, 76.3, 76.4, 76.5, 76.6, 76.7, 76.8, 76.9, 77.0, 77.1, 77.2, 77.3, 77.4, 77.5], 'confidence_interval_lower__1': [75.4, 75.5, 75.6, 75.7, 75.8, 75.9, 76.0, 76.1, 76.2, 76.3, 76.4, 76.5, 76.6, 76.7, 76.8, 76.9, 77.0, 77.1, 77.2, 77.3, 77.4], 'timestamp__1': datetime.datetime(2024, 11, 21, 8, 12, 10), 'imputation__1': False, 'confidence_interval_upper__1': [75.6, 75.7, 75.8, 75.9, 76.0, 76.1, 76.2, 76.3, 76.4, 76.5, 76.6, 76.7, 76.8, 76.9, 77.0, 77.1, 77.2, 77.3, 77.4, 77.5, 77.6], 'aggregation_type__1': 'min', 'value__2': 3.0, 'kpi__2': 'z_acceleration', 'anomaly__2': True, 'trend_drift__2': 0.3, 'machineid__2': '3', 'next_days_predictions__2': [75.5, 75.6, 75.7, 75.8, 75.9, 76.0, 76.1, 76.2, 76.3, 76.4, 76.5, 76.6, 76.7, 76.8, 76.9, 77.0, 77.1, 77.2, 77.3, 77.4, 77.5], 'confidence_interval_lower__2': [75.4, 75.5, 75.6, 75.7, 75.8, 75.9, 76.0, 76.1, 76.2, 76.3, 76.4, 76.5, 76.6, 76.7, 76.8, 76.9, 77.0, 77.1, 77.2, 77.3, 77.4], 'timestamp__2': datetime.datetime(2024, 11, 17, 16, 40, 26), 'imputation__2': True, 'confidence_interval_upper__2': [75.6, 75.7, 75.8, 75.9, 76.0, 76.1, 76.2, 76.3, 76.4, 76.5, 76.6, 76.7, 76.8, 76.9, 77.0, 77.1, 77.2, 77.3, 77.4, 77.5, 77.6], 'aggregation_type__2': 'avg', 'value__3': 4.0, 'kpi__3': 'x_acceleration', 'anomaly__3': False, 'trend_drift__3': 0.4, 'machineid__3': '1', 'next_days_predictions__3': [75.5, 75.6, 75.7, 75.8, 75.9, 76.0, 76.1, 76.2, 76.3, 76.4, 76.5, 76.6, 76.7, 76.8, 76.9, 77.0, 77.1, 77.2, 77.3, 77.4, 77.5], 'confidence_interval_lower__3': [75.4, 75.5, 75.6, 75.7, 75.8, 75.9, 76.0, 76.1, 76.2, 76.3, 76.4, 76.5, 76.6, 76.7, 76.8, 76.9, 77.0, 77.1, 77.2, 77.3, 77.4], 'timestamp__3': datetime.datetime(2024, 11, 21, 8, 12, 10), 'imputation__3': False, 'confidence_interval_upper__3': [75.6, 75.7, 75.8, 75.9, 76.0, 76.1, 76.2, 76.3, 76.4, 76.5, 76.6, 76.7, 76.8, 76.9, 77.0, 77.1, 77.2, 77.3, 77.4, 77.5, 77.6], 'aggregation_type__3': 'min'}]\n",
      "(Background on this error at: https://sqlalche.me/e/20/gkpj)\n",
      "Dati inseriti con successo nella tabella 'kpi_machine_agg_params'.\n"
     ]
    }
   ],
   "source": [
    "historical_data = {\n",
    "    \"timestamp\": [\n",
    "        datetime.now(tz),\n",
    "        datetime(2024, 11, 21, 8, 12, 10),\n",
    "        datetime(2024, 11, 17, 16, 40, 26),\n",
    "        datetime(2024, 11, 21, 8, 12, 10)\n",
    "    ],\n",
    "    \"machineid\": ['1','2','3','1'],\n",
    "    \"kpi\": ['x_acceleration','y_acceleration','z_acceleration','x_acceleration'],\n",
    "    \"aggregation_type\": ['sum','min','avg','min'],\n",
    "    \"value\": [1.0, 2.0, 3.0, 4.0],\n",
    "    \"imputation\": [False, False, True, False],\n",
    "    \"anomaly\": [False, False, True, False],\n",
    "    \"trend_drift\": [0.1, 0.2, 0.3, 0.4],\n",
    "    \"next_days_predictions\": [[75.5, 75.6, 75.7, 75.8, 75.9, 76.0, 76.1, 76.2, 76.3, 76.4, 76.5, 76.6, 76.7, 76.8, 76.9, 77.0, 77.1, 77.2, 77.3, 77.4, 77.5],\n",
    "                            [75.5, 75.6, 75.7, 75.8, 75.9, 76.0, 76.1, 76.2, 76.3, 76.4, 76.5, 76.6, 76.7, 76.8, 76.9, 77.0, 77.1, 77.2, 77.3, 77.4, 77.5],\n",
    "                            [75.5, 75.6, 75.7, 75.8, 75.9, 76.0, 76.1, 76.2, 76.3, 76.4, 76.5, 76.6, 76.7, 76.8, 76.9, 77.0, 77.1, 77.2, 77.3, 77.4, 77.5],\n",
    "                            [75.5, 75.6, 75.7, 75.8, 75.9, 76.0, 76.1, 76.2, 76.3, 76.4, 76.5, 76.6, 76.7, 76.8, 76.9, 77.0, 77.1, 77.2, 77.3, 77.4, 77.5]],\n",
    "    \"confidence_interval_lower\": [[75.4, 75.5, 75.6, 75.7, 75.8, 75.9, 76.0, 76.1, 76.2, 76.3, 76.4, 76.5, 76.6, 76.7, 76.8, 76.9, 77.0, 77.1, 77.2, 77.3, 77.4],\n",
    "                                  [75.4, 75.5, 75.6, 75.7, 75.8, 75.9, 76.0, 76.1, 76.2, 76.3, 76.4, 76.5, 76.6, 76.7, 76.8, 76.9, 77.0, 77.1, 77.2, 77.3, 77.4],\n",
    "                                  [75.4, 75.5, 75.6, 75.7, 75.8, 75.9, 76.0, 76.1, 76.2, 76.3, 76.4, 76.5, 76.6, 76.7, 76.8, 76.9, 77.0, 77.1, 77.2, 77.3, 77.4],\n",
    "                                  [75.4, 75.5, 75.6, 75.7, 75.8, 75.9, 76.0, 76.1, 76.2, 76.3, 76.4, 76.5, 76.6, 76.7, 76.8, 76.9, 77.0, 77.1, 77.2, 77.3, 77.4]],\n",
    "    \"confidence_interval_upper\": [[75.6, 75.7, 75.8, 75.9, 76.0, 76.1, 76.2, 76.3, 76.4, 76.5, 76.6, 76.7, 76.8, 76.9, 77.0, 77.1, 77.2, 77.3, 77.4, 77.5, 77.6],\n",
    "                                  [75.6, 75.7, 75.8, 75.9, 76.0, 76.1, 76.2, 76.3, 76.4, 76.5, 76.6, 76.7, 76.8, 76.9, 77.0, 77.1, 77.2, 77.3, 77.4, 77.5, 77.6],\n",
    "                                  [75.6, 75.7, 75.8, 75.9, 76.0, 76.1, 76.2, 76.3, 76.4, 76.5, 76.6, 76.7, 76.8, 76.9, 77.0, 77.1, 77.2, 77.3, 77.4, 77.5, 77.6],\n",
    "                                  [75.6, 75.7, 75.8, 75.9, 76.0, 76.1, 76.2, 76.3, 76.4, 76.5, 76.6, 76.7, 76.8, 76.9, 77.0, 77.1, 77.2, 77.3, 77.4, 77.5, 77.6]]\n",
    "    }\n",
    "historical_data_df = pd.DataFrame(historical_data)\n",
    "insert_data_to_sql(historical_data_df, \"historical_store\", engine)\n",
    "\n",
    "params_data = {\n",
    "    \"timestamp\": [datetime(2024, 11, 21, 8, 12, 10)],\n",
    "    \"machineid\": ['1'],\n",
    "    \"kpi\": ['x_acceleration'],\n",
    "    \"aggregation_type\": ['sum'],\n",
    "    \"min_threshold\": [0.0],\n",
    "    \"max_threshold\": [2.0],\n",
    "    \"selected_f\": [3]\n",
    "}\n",
    "params_data_df = pd.DataFrame(params_data)\n",
    "insert_data_to_sql(params_data_df, \"kpi_machine_agg_params\", engine)"
   ]
  },
  {
   "cell_type": "markdown",
   "metadata": {},
   "source": [
    "#### **1.2 Delete data from SQL**"
   ]
  },
  {
   "cell_type": "code",
   "execution_count": 3,
   "metadata": {},
   "outputs": [
    {
     "name": "stdout",
     "output_type": "stream",
     "text": [
      "DELETE FROM historical_store WHERE machineid = '2' AND timestamp >= '2021-11-21 08:12:10' AND timestamp <= '2029-11-21 08:12:10'\n",
      "Dati eliminati con successo dalla tabella 'historical_store'.\n"
     ]
    }
   ],
   "source": [
    "conditions = {\n",
    "    \"machineid\": '2'\n",
    "}\n",
    "delete_data_from_sql(\"historical_store\", engine, conditions, start_time=datetime(2021, 11, 21, 8, 12, 10), end_time=datetime(2029, 11, 21, 8, 12, 10))"
   ]
  },
  {
   "cell_type": "markdown",
   "metadata": {},
   "source": [
    "#### **1.3 Get data from SQL**"
   ]
  },
  {
   "cell_type": "code",
   "execution_count": 4,
   "metadata": {},
   "outputs": [
    {
     "name": "stdout",
     "output_type": "stream",
     "text": [
      "            timestamp  machineid             kpi aggregation_type  value  \\\n",
      "0 2024-11-21 08:12:10          1  x_acceleration              avg    4.0   \n",
      "\n",
      "   imputation  anomaly  trend_drift  \\\n",
      "0       False    False            0   \n",
      "\n",
      "                               next_days_predictions  \\\n",
      "0  [75.5, 75.6, 75.7, 75.8, 75.9, 76.0, 76.1, 76....   \n",
      "\n",
      "                           confidence_interval_lower  \\\n",
      "0  [75.4, 75.5, 75.6, 75.7, 75.8, 75.9, 76.0, 76....   \n",
      "\n",
      "                           confidence_interval_upper  \n",
      "0  [75.6, 75.7, 75.8, 75.9, 76.0, 76.1, 76.2, 76....  \n"
     ]
    }
   ],
   "source": [
    "table_name = \"historical_store\"\n",
    "attributes = ['value', 'imputation', 'anomaly', 'trend_drift', 'next_days_predictions']\n",
    "attributes=None\n",
    "conditions = {\n",
    "    'machineid': ['1', '2'],\n",
    "    'kpi': ['x_acceleration', 'y_acceleration','temperature'],\n",
    "    }\n",
    "start_time = datetime(2023, 1, 21, 8, 12, 10)\n",
    "end_time = datetime(2024, 12, 21, 8, 12, 10)\n",
    "result_df = get_data_from_sql(table_name, engine, attributes, conditions, start_time, end_time)\n",
    "print(result_df.head())"
   ]
  },
  {
   "cell_type": "markdown",
   "metadata": {},
   "source": [
    "### **2. Redis**"
   ]
  },
  {
   "cell_type": "markdown",
   "metadata": {},
   "source": [
    "#### **2.1 Insert data to redis**"
   ]
  },
  {
   "cell_type": "code",
   "execution_count": 6,
   "metadata": {},
   "outputs": [],
   "source": [
    "# Crea un DataFrame con i dati da inserire\n",
    "new_data = {\n",
    "    \"timestamp\": [\n",
    "        datetime(2024, 11, 21, 8, 12, 10),\n",
    "        datetime(2024, 11, 17, 16, 40, 26)\n",
    "    ],\n",
    "    \"machineid\": ['1000', '28'],\n",
    "    \"kpi\": ['x_acceleration', 'y_acceleration'],\n",
    "    \"aggregation_type\": ['avg', 'min'],\n",
    "    \"value\": [1.0, 2.0],\n",
    "    \"imputation\": [True, True],\n",
    "    \"anomaly\": [True, True],\n",
    "    \"trend_drift\": [1, -1],\n",
    "    \"next_days_predictions\": [\n",
    "        [75.5, 75.6, 75.7, 75.8],\n",
    "        [76.5, 76.6, 76.7, 76.8]\n",
    "    ],\n",
    "    \"confidence_interval_lower\": [\n",
    "        [75.4, 75.5, 75.6, 75.7],\n",
    "        [76.4, 76.5, 76.6, 76.7]\n",
    "    ],\n",
    "    \"confidence_interval_upper\": [\n",
    "        [75.6, 75.7, 75.8, 75.9],\n",
    "        [76.6, 76.7, 76.8, 76.9]\n",
    "    ]\n",
    "}\n",
    "\n",
    "df = pd.DataFrame(new_data)\n",
    "\n",
    "# Inserisci i dati in Redis\n",
    "insert_data_to_redis(df, feature_view_name=\"historical_store\")\n"
   ]
  },
  {
   "cell_type": "markdown",
   "metadata": {},
   "source": [
    "#### **2.2 Get filtered online features**"
   ]
  },
  {
   "cell_type": "code",
   "execution_count": 4,
   "metadata": {},
   "outputs": [
    {
     "name": "stdout",
     "output_type": "stream",
     "text": [
      "No matching data found.\n"
     ]
    }
   ],
   "source": [
    "\n",
    "\n",
    "# Definisci le condizioni di ricerca\n",
    "conditions = {\n",
    "    'machineid': ['1000'],\n",
    "    'kpi': ['x_acceleration', 'y_acceleration'],\n",
    "    'aggregation_type': ['avg']\n",
    "}\n",
    "\n",
    "# Estrai i dati da Redis che soddisfano le condizioni\n",
    "data = get_data_from_redis_with_conditions(conditions)\n",
    "\n",
    "# Visualizza i risultati\n",
    "if data:\n",
    "    for record in data:\n",
    "        print(record)\n",
    "else:\n",
    "    print(\"No matching data found.\")\n"
   ]
  },
  {
   "cell_type": "markdown",
   "metadata": {},
   "source": [
    "### **3. Both: Redis and Postgres**"
   ]
  },
  {
   "cell_type": "markdown",
   "metadata": {},
   "source": [
    "#### **3.1 Insert new data (Insert data in both)**"
   ]
  },
  {
   "cell_type": "code",
   "execution_count": 7,
   "metadata": {},
   "outputs": [
    {
     "name": "stdout",
     "output_type": "stream",
     "text": [
      "Errore durante l'inserimento dei dati: (psycopg2.errors.UniqueViolation) duplicate key value violates unique constraint \"historical_store_pkey\"\n",
      "DETAIL:  Key (\"timestamp\", machineid, kpi, aggregation_type)=(2024-11-17 16:40:26, 3, z_acceleration, avg) already exists.\n",
      "\n",
      "[SQL: INSERT INTO historical_store (timestamp, machineid, kpi, aggregation_type, value, imputation, anomaly, trend_drift, next_days_predictions, confidence_interval_lower, confidence_interval_upper) VALUES (%(timestamp__0)s, %(machineid__0)s, %(kpi__0)s, % ... 816 characters truncated ... s, %(next_days_predictions__3)s, %(confidence_interval_lower__3)s, %(confidence_interval_upper__3)s)]\n",
      "[parameters: {'value__0': 1.0, 'kpi__0': 'x_acceleration', 'anomaly__0': False, 'trend_drift__0': 0.1, 'machineid__0': '1', 'next_days_predictions__0': [75.5, 75.6, 75.7, 75.8, 75.9, 76.0, 76.1, 76.2, 76.3, 76.4, 76.5, 76.6, 76.7, 76.8, 76.9, 77.0, 77.1, 77.2, 77.3, 77.4, 77.5], 'confidence_interval_lower__0': [75.4, 75.5, 75.6, 75.7, 75.8, 75.9, 76.0, 76.1, 76.2, 76.3, 76.4, 76.5, 76.6, 76.7, 76.8, 76.9, 77.0, 77.1, 77.2, 77.3, 77.4], 'timestamp__0': datetime.datetime(2025, 1, 30, 21, 56, 40, 520182, tzinfo=<DstTzInfo 'Europe/Rome' CET+1:00:00 STD>), 'imputation__0': False, 'confidence_interval_upper__0': [75.6, 75.7, 75.8, 75.9, 76.0, 76.1, 76.2, 76.3, 76.4, 76.5, 76.6, 76.7, 76.8, 76.9, 77.0, 77.1, 77.2, 77.3, 77.4, 77.5, 77.6], 'aggregation_type__0': 'avg', 'value__1': 2.0, 'kpi__1': 'y_acceleration', 'anomaly__1': False, 'trend_drift__1': 0.2, 'machineid__1': '2', 'next_days_predictions__1': [75.5, 75.6, 75.7, 75.8, 75.9, 76.0, 76.1, 76.2, 76.3, 76.4, 76.5, 76.6, 76.7, 76.8, 76.9, 77.0, 77.1, 77.2, 77.3, 77.4, 77.5], 'confidence_interval_lower__1': [75.4, 75.5, 75.6, 75.7, 75.8, 75.9, 76.0, 76.1, 76.2, 76.3, 76.4, 76.5, 76.6, 76.7, 76.8, 76.9, 77.0, 77.1, 77.2, 77.3, 77.4], 'timestamp__1': datetime.datetime(2024, 11, 21, 8, 12, 10), 'imputation__1': False, 'confidence_interval_upper__1': [75.6, 75.7, 75.8, 75.9, 76.0, 76.1, 76.2, 76.3, 76.4, 76.5, 76.6, 76.7, 76.8, 76.9, 77.0, 77.1, 77.2, 77.3, 77.4, 77.5, 77.6], 'aggregation_type__1': 'avg', 'value__2': 3.0, 'kpi__2': 'z_acceleration', 'anomaly__2': True, 'trend_drift__2': 0.3, 'machineid__2': '3', 'next_days_predictions__2': [75.5, 75.6, 75.7, 75.8, 75.9, 76.0, 76.1, 76.2, 76.3, 76.4, 76.5, 76.6, 76.7, 76.8, 76.9, 77.0, 77.1, 77.2, 77.3, 77.4, 77.5], 'confidence_interval_lower__2': [75.4, 75.5, 75.6, 75.7, 75.8, 75.9, 76.0, 76.1, 76.2, 76.3, 76.4, 76.5, 76.6, 76.7, 76.8, 76.9, 77.0, 77.1, 77.2, 77.3, 77.4], 'timestamp__2': datetime.datetime(2024, 11, 17, 16, 40, 26), 'imputation__2': True, 'confidence_interval_upper__2': [75.6, 75.7, 75.8, 75.9, 76.0, 76.1, 76.2, 76.3, 76.4, 76.5, 76.6, 76.7, 76.8, 76.9, 77.0, 77.1, 77.2, 77.3, 77.4, 77.5, 77.6], 'aggregation_type__2': 'avg', 'value__3': 4.0, 'kpi__3': 'x_acceleration', 'anomaly__3': False, 'trend_drift__3': 0.4, 'machineid__3': '1', 'next_days_predictions__3': [75.5, 75.6, 75.7, 75.8, 75.9, 76.0, 76.1, 76.2, 76.3, 76.4, 76.5, 76.6, 76.7, 76.8, 76.9, 77.0, 77.1, 77.2, 77.3, 77.4, 77.5], 'confidence_interval_lower__3': [75.4, 75.5, 75.6, 75.7, 75.8, 75.9, 76.0, 76.1, 76.2, 76.3, 76.4, 76.5, 76.6, 76.7, 76.8, 76.9, 77.0, 77.1, 77.2, 77.3, 77.4], 'timestamp__3': datetime.datetime(2024, 11, 21, 8, 12, 10), 'imputation__3': False, 'confidence_interval_upper__3': [75.6, 75.7, 75.8, 75.9, 76.0, 76.1, 76.2, 76.3, 76.4, 76.5, 76.6, 76.7, 76.8, 76.9, 77.0, 77.1, 77.2, 77.3, 77.4, 77.5, 77.6], 'aggregation_type__3': 'avg'}]\n",
      "(Background on this error at: https://sqlalche.me/e/20/gkpj)\n"
     ]
    }
   ],
   "source": [
    "new_data = {\n",
    "    \"timestamp\": [\n",
    "        datetime.now(tz),\n",
    "        datetime(2024, 11, 21, 8, 12, 10),\n",
    "        datetime(2024, 11, 17, 16, 40, 26),\n",
    "        datetime(2024, 11, 21, 8, 12, 10)\n",
    "    ],\n",
    "    \"machineid\": ['1','2','3','1'],\n",
    "    \"kpi\": ['x_acceleration','y_acceleration','z_acceleration','x_acceleration'],\n",
    "    \"aggregation_type\": ['avg','avg','avg','avg'],\n",
    "    \"value\": [1.0, 2.0, 3.0, 4.0],\n",
    "    \"imputation\": [False, False, True, False],\n",
    "    \"anomaly\": [False, False, True, False],\n",
    "    \"trend_drift\": [0.1, 0.2, 0.3, 0.4],\n",
    "    \"next_days_predictions\": [[75.5, 75.6, 75.7, 75.8, 75.9, 76.0, 76.1, 76.2, 76.3, 76.4, 76.5, 76.6, 76.7, 76.8, 76.9, 77.0, 77.1, 77.2, 77.3, 77.4, 77.5],\n",
    "                            [75.5, 75.6, 75.7, 75.8, 75.9, 76.0, 76.1, 76.2, 76.3, 76.4, 76.5, 76.6, 76.7, 76.8, 76.9, 77.0, 77.1, 77.2, 77.3, 77.4, 77.5],\n",
    "                            [75.5, 75.6, 75.7, 75.8, 75.9, 76.0, 76.1, 76.2, 76.3, 76.4, 76.5, 76.6, 76.7, 76.8, 76.9, 77.0, 77.1, 77.2, 77.3, 77.4, 77.5],\n",
    "                            [75.5, 75.6, 75.7, 75.8, 75.9, 76.0, 76.1, 76.2, 76.3, 76.4, 76.5, 76.6, 76.7, 76.8, 76.9, 77.0, 77.1, 77.2, 77.3, 77.4, 77.5]],\n",
    "    \"confidence_interval_lower\": [[75.4, 75.5, 75.6, 75.7, 75.8, 75.9, 76.0, 76.1, 76.2, 76.3, 76.4, 76.5, 76.6, 76.7, 76.8, 76.9, 77.0, 77.1, 77.2, 77.3, 77.4],\n",
    "                                  [75.4, 75.5, 75.6, 75.7, 75.8, 75.9, 76.0, 76.1, 76.2, 76.3, 76.4, 76.5, 76.6, 76.7, 76.8, 76.9, 77.0, 77.1, 77.2, 77.3, 77.4],\n",
    "                                  [75.4, 75.5, 75.6, 75.7, 75.8, 75.9, 76.0, 76.1, 76.2, 76.3, 76.4, 76.5, 76.6, 76.7, 76.8, 76.9, 77.0, 77.1, 77.2, 77.3, 77.4],\n",
    "                                  [75.4, 75.5, 75.6, 75.7, 75.8, 75.9, 76.0, 76.1, 76.2, 76.3, 76.4, 76.5, 76.6, 76.7, 76.8, 76.9, 77.0, 77.1, 77.2, 77.3, 77.4]],\n",
    "    \"confidence_interval_upper\": [[75.6, 75.7, 75.8, 75.9, 76.0, 76.1, 76.2, 76.3, 76.4, 76.5, 76.6, 76.7, 76.8, 76.9, 77.0, 77.1, 77.2, 77.3, 77.4, 77.5, 77.6],\n",
    "                                  [75.6, 75.7, 75.8, 75.9, 76.0, 76.1, 76.2, 76.3, 76.4, 76.5, 76.6, 76.7, 76.8, 76.9, 77.0, 77.1, 77.2, 77.3, 77.4, 77.5, 77.6],\n",
    "                                  [75.6, 75.7, 75.8, 75.9, 76.0, 76.1, 76.2, 76.3, 76.4, 76.5, 76.6, 76.7, 76.8, 76.9, 77.0, 77.1, 77.2, 77.3, 77.4, 77.5, 77.6],\n",
    "                                  [75.6, 75.7, 75.8, 75.9, 76.0, 76.1, 76.2, 76.3, 76.4, 76.5, 76.6, 76.7, 76.8, 76.9, 77.0, 77.1, 77.2, 77.3, 77.4, 77.5, 77.6]]\n",
    "    }\n",
    "new_data_df = pd.DataFrame(new_data)\n",
    "insert_new_data(new_data_df, \"historical_store\", engine)"
   ]
  }
 ],
 "metadata": {
  "kernelspec": {
   "display_name": "DM",
   "language": "python",
   "name": "python3"
  },
  "language_info": {
   "codemirror_mode": {
    "name": "ipython",
    "version": 3
   },
   "file_extension": ".py",
   "mimetype": "text/x-python",
   "name": "python",
   "nbconvert_exporter": "python",
   "pygments_lexer": "ipython3",
   "version": "3.10.16"
  }
 },
 "nbformat": 4,
 "nbformat_minor": 2
}
